{
 "cells": [
  {
   "cell_type": "markdown",
   "metadata": {
    "id": "EFhSljeOCnRw",
    "pycharm": {
     "name": "#%% md\n"
    }
   },
   "source": [
    "# Multivariate Time Series Prediction Using Transformers Architecture\n",
    "\n",
    "The following Notebook shows the coding part of my Bachelor Thesis for the Information and Communication Systems and Services bachelor degree in the University of Applied Science Technikum Wien.\n",
    "\n",
    "Author: Sergio Tallo Torres\n",
    "Date: May 2022"
   ]
  },
  {
   "cell_type": "markdown",
   "metadata": {
    "id": "0esqvQHT2922",
    "pycharm": {
     "name": "#%% md\n"
    }
   },
   "source": [
    "# First: load imports needed for the project and project preparation"
   ]
  },
  {
   "cell_type": "code",
   "execution_count": 1,
   "metadata": {
    "pycharm": {
     "is_executing": true,
     "name": "#%%\n"
    }
   },
   "outputs": [
    {
     "name": "stderr",
     "output_type": "stream",
     "text": [
      "D:\\Code\\Anaconda\\envs\\tensorflow\\lib\\site-packages\\tqdm\\auto.py:22: TqdmWarning: IProgress not found. Please update jupyter and ipywidgets. See https://ipywidgets.readthedocs.io/en/stable/user_install.html\n",
      "  from .autonotebook import tqdm as notebook_tqdm\n"
     ]
    },
    {
     "name": "stdout",
     "output_type": "stream",
     "text": [
      "Device: GPU = NVIDIA GeForce RTX 3050 Laptop GPU\n"
     ]
    }
   ],
   "source": [
    "import pandas as pd\n",
    "import seaborn as sns\n",
    "import numpy as np\n",
    "import matplotlib.pyplot as plt\n",
    "import torch.nn as nn\n",
    "\n",
    "import os\n",
    "import torch\n",
    "import sklearn\n",
    "import scipy\n",
    "\n",
    "from datetime import datetime\n",
    "from tqdm import tqdm\n",
    "from scipy import stats\n",
    "from platform import python_version\n",
    "\n",
    "import utils_bsc\n",
    "\n",
    "if torch.cuda.is_available():\n",
    "  device = torch.device('cuda:0')\n",
    "  print('Device: GPU =', torch.cuda.get_device_name(0))\n",
    "else:\n",
    "  device = torch.device('cpu')\n",
    "  print('Device: CPU')\n",
    "\n",
    "saved_results = 'training_results'\n",
    "\n",
    "# Check whether the directory where the results files must be saved exists or not\n",
    "if not os.path.exists(saved_results):\n",
    "  # Create a new directory because it does not exist\n",
    "  os.makedirs(saved_results)"
   ]
  },
  {
   "cell_type": "code",
   "execution_count": 2,
   "metadata": {
    "pycharm": {
     "name": "#%%\n"
    }
   },
   "outputs": [
    {
     "name": "stdout",
     "output_type": "stream",
     "text": [
      "versions of packages:\n",
      "Python: 3.8.13\n",
      "Pandas: 1.4.1\n",
      "Numpy: 1.22.3\n",
      "PyTorch: 1.11.0+cu113\n",
      "Sklearn: 1.0.2\n",
      "seaborn: 0.11.2\n",
      "scipy: 1.8.0\n"
     ]
    }
   ],
   "source": [
    "print('versions of packages:')\n",
    "print(f'Python: {python_version()}')\n",
    "print(f'Pandas: {pd.__version__}')\n",
    "print(f'Numpy: {np.__version__}')\n",
    "print(f'PyTorch: {torch.__version__}')\n",
    "print(f'Sklearn: {sklearn.__version__}')\n",
    "print(f'seaborn: {sns.__version__}')\n",
    "print(f'scipy: {scipy.__version__}')"
   ]
  },
  {
   "cell_type": "code",
   "execution_count": 3,
   "metadata": {
    "pycharm": {
     "is_executing": true,
     "name": "#%%\n"
    }
   },
   "outputs": [],
   "source": [
    "# This cell is necessary to use this notebook in google colab\n",
    "# If you are running this notebook in colab, please change colab to True\n",
    "\n",
    "colab = False\n",
    "\n",
    "if colab is True:\n",
    "    cwd = os.getcwd()\n",
    "\n",
    "    if cwd != \"/content/Bsc_Thesis\":\n",
    "        ! git clone https://github.com/SergioTallo/Bsc_Thesis.git\n",
    "        % cd Bsc_Thesis\n",
    "\n",
    "    print(cwd)"
   ]
  },
  {
   "cell_type": "markdown",
   "metadata": {
    "pycharm": {
     "name": "#%% md\n"
    }
   },
   "source": [
    "# Data loading and preparation"
   ]
  },
  {
   "cell_type": "markdown",
   "metadata": {
    "pycharm": {
     "name": "#%% md\n"
    }
   },
   "source": [
    "Now, we should create a dataset with all the data stored in the .csv file\n",
    "\n",
    "Description of the data:\n",
    "\n",
    "*   time: Timestamp (YYYY-MM-DD HH:MM:SS)\n",
    "*   PLN1: Power in the phase 1 (W)\n",
    "*   PLN2: Power in the phase 2 (W)\n",
    "*   PLN3: Power in the phase 3 (W)\n",
    "*   ULL1: Current Voltage between 2 phases (V)\n",
    "*   ULL2: Current Voltage between 2 phases (V)\n",
    "*   ULL3: Current Voltage between 2 phases (V)\n",
    "*   COS_PHI1: Phase shift (Cos)\n",
    "*   COS_PHI2: Phase shift (Cos)\n",
    "*   COS_PHI3: Phase shift (Cos)\n",
    "*   FREQ: Electricity Frequency (Hz)\n",
    "*   RC_DC: Fault currents\n",
    "*   RC_AC: Fault currents\n",
    "*   RC_50Hz: Fault currents\n",
    "*   RC_150Hz: Fault currents\n",
    "*   RC_<100Hz: Fault currents\n",
    "*   RC_100Hz-1kHz: Fault currents\n",
    "*   RC_>10kHz: Fault currents\n"
   ]
  },
  {
   "cell_type": "code",
   "execution_count": 4,
   "metadata": {
    "pycharm": {
     "is_executing": true,
     "name": "#%%\n"
    }
   },
   "outputs": [
    {
     "data": {
      "text/html": [
       "<div>\n",
       "<style scoped>\n",
       "    .dataframe tbody tr th:only-of-type {\n",
       "        vertical-align: middle;\n",
       "    }\n",
       "\n",
       "    .dataframe tbody tr th {\n",
       "        vertical-align: top;\n",
       "    }\n",
       "\n",
       "    .dataframe thead th {\n",
       "        text-align: right;\n",
       "    }\n",
       "</style>\n",
       "<table border=\"1\" class=\"dataframe\">\n",
       "  <thead>\n",
       "    <tr style=\"text-align: right;\">\n",
       "      <th></th>\n",
       "      <th>time</th>\n",
       "      <th>PLN1</th>\n",
       "      <th>PLN2</th>\n",
       "      <th>PLN3</th>\n",
       "      <th>ULL1</th>\n",
       "      <th>ULL2</th>\n",
       "      <th>ULL3</th>\n",
       "      <th>COS_PHI1</th>\n",
       "      <th>COS_PHI2</th>\n",
       "      <th>COS_PHI3</th>\n",
       "      <th>FREQ</th>\n",
       "      <th>RC_DC</th>\n",
       "      <th>RC_AC</th>\n",
       "      <th>RC_50Hz</th>\n",
       "      <th>RC_150Hz</th>\n",
       "      <th>RC_&lt;100Hz</th>\n",
       "      <th>RC_100Hz-1kHz</th>\n",
       "      <th>RC_&gt;1kHz</th>\n",
       "      <th>RC_&gt;10kHz</th>\n",
       "    </tr>\n",
       "  </thead>\n",
       "  <tbody>\n",
       "    <tr>\n",
       "      <th>0</th>\n",
       "      <td>2020-06-01 00:00:00</td>\n",
       "      <td>1141.0819</td>\n",
       "      <td>519.5034</td>\n",
       "      <td>482.9381</td>\n",
       "      <td>398.8613</td>\n",
       "      <td>400.1982</td>\n",
       "      <td>395.6010</td>\n",
       "      <td>0.8091</td>\n",
       "      <td>0.6864</td>\n",
       "      <td>0.4875</td>\n",
       "      <td>49.9927</td>\n",
       "      <td>4.0</td>\n",
       "      <td>91.0</td>\n",
       "      <td>10.0</td>\n",
       "      <td>39.0</td>\n",
       "      <td>36.0</td>\n",
       "      <td>86.0</td>\n",
       "      <td>82.0</td>\n",
       "      <td>7.0</td>\n",
       "    </tr>\n",
       "    <tr>\n",
       "      <th>1</th>\n",
       "      <td>2020-06-01 00:01:00</td>\n",
       "      <td>1145.1162</td>\n",
       "      <td>519.1807</td>\n",
       "      <td>491.4436</td>\n",
       "      <td>398.6934</td>\n",
       "      <td>400.1579</td>\n",
       "      <td>395.5431</td>\n",
       "      <td>0.8080</td>\n",
       "      <td>0.6903</td>\n",
       "      <td>0.4904</td>\n",
       "      <td>49.9779</td>\n",
       "      <td>5.0</td>\n",
       "      <td>64.0</td>\n",
       "      <td>7.0</td>\n",
       "      <td>27.0</td>\n",
       "      <td>25.0</td>\n",
       "      <td>60.0</td>\n",
       "      <td>55.0</td>\n",
       "      <td>2.0</td>\n",
       "    </tr>\n",
       "    <tr>\n",
       "      <th>2</th>\n",
       "      <td>2020-06-01 00:02:00</td>\n",
       "      <td>1140.9558</td>\n",
       "      <td>743.3837</td>\n",
       "      <td>484.9942</td>\n",
       "      <td>398.4367</td>\n",
       "      <td>400.1205</td>\n",
       "      <td>395.5259</td>\n",
       "      <td>0.8113</td>\n",
       "      <td>0.9274</td>\n",
       "      <td>0.4806</td>\n",
       "      <td>49.9782</td>\n",
       "      <td>4.0</td>\n",
       "      <td>64.0</td>\n",
       "      <td>7.0</td>\n",
       "      <td>27.0</td>\n",
       "      <td>25.0</td>\n",
       "      <td>60.0</td>\n",
       "      <td>55.0</td>\n",
       "      <td>2.0</td>\n",
       "    </tr>\n",
       "    <tr>\n",
       "      <th>3</th>\n",
       "      <td>2020-06-01 00:03:00</td>\n",
       "      <td>1151.9409</td>\n",
       "      <td>741.4836</td>\n",
       "      <td>487.4224</td>\n",
       "      <td>398.9800</td>\n",
       "      <td>400.4375</td>\n",
       "      <td>395.8621</td>\n",
       "      <td>0.8249</td>\n",
       "      <td>0.9123</td>\n",
       "      <td>0.4778</td>\n",
       "      <td>49.9850</td>\n",
       "      <td>5.0</td>\n",
       "      <td>66.0</td>\n",
       "      <td>8.0</td>\n",
       "      <td>28.0</td>\n",
       "      <td>25.0</td>\n",
       "      <td>61.0</td>\n",
       "      <td>57.0</td>\n",
       "      <td>2.0</td>\n",
       "    </tr>\n",
       "    <tr>\n",
       "      <th>4</th>\n",
       "      <td>2020-06-01 00:04:00</td>\n",
       "      <td>1142.1594</td>\n",
       "      <td>741.9858</td>\n",
       "      <td>486.7629</td>\n",
       "      <td>398.7133</td>\n",
       "      <td>400.3145</td>\n",
       "      <td>395.6446</td>\n",
       "      <td>0.8081</td>\n",
       "      <td>0.9291</td>\n",
       "      <td>0.4552</td>\n",
       "      <td>49.9856</td>\n",
       "      <td>4.0</td>\n",
       "      <td>85.0</td>\n",
       "      <td>11.0</td>\n",
       "      <td>45.0</td>\n",
       "      <td>41.0</td>\n",
       "      <td>75.0</td>\n",
       "      <td>68.0</td>\n",
       "      <td>6.0</td>\n",
       "    </tr>\n",
       "  </tbody>\n",
       "</table>\n",
       "</div>"
      ],
      "text/plain": [
       "                  time       PLN1      PLN2      PLN3      ULL1      ULL2  \\\n",
       "0  2020-06-01 00:00:00  1141.0819  519.5034  482.9381  398.8613  400.1982   \n",
       "1  2020-06-01 00:01:00  1145.1162  519.1807  491.4436  398.6934  400.1579   \n",
       "2  2020-06-01 00:02:00  1140.9558  743.3837  484.9942  398.4367  400.1205   \n",
       "3  2020-06-01 00:03:00  1151.9409  741.4836  487.4224  398.9800  400.4375   \n",
       "4  2020-06-01 00:04:00  1142.1594  741.9858  486.7629  398.7133  400.3145   \n",
       "\n",
       "       ULL3  COS_PHI1  COS_PHI2  COS_PHI3     FREQ  RC_DC  RC_AC  RC_50Hz  \\\n",
       "0  395.6010    0.8091    0.6864    0.4875  49.9927    4.0   91.0     10.0   \n",
       "1  395.5431    0.8080    0.6903    0.4904  49.9779    5.0   64.0      7.0   \n",
       "2  395.5259    0.8113    0.9274    0.4806  49.9782    4.0   64.0      7.0   \n",
       "3  395.8621    0.8249    0.9123    0.4778  49.9850    5.0   66.0      8.0   \n",
       "4  395.6446    0.8081    0.9291    0.4552  49.9856    4.0   85.0     11.0   \n",
       "\n",
       "   RC_150Hz  RC_<100Hz  RC_100Hz-1kHz  RC_>1kHz  RC_>10kHz  \n",
       "0      39.0       36.0           86.0      82.0        7.0  \n",
       "1      27.0       25.0           60.0      55.0        2.0  \n",
       "2      27.0       25.0           60.0      55.0        2.0  \n",
       "3      28.0       25.0           61.0      57.0        2.0  \n",
       "4      45.0       41.0           75.0      68.0        6.0  "
      ]
     },
     "execution_count": 4,
     "metadata": {},
     "output_type": "execute_result"
    }
   ],
   "source": [
    "dataset = pd.read_csv('data_factory.csv')\n",
    "dataset.head()"
   ]
  },
  {
   "cell_type": "markdown",
   "metadata": {
    "pycharm": {
     "name": "#%% md\n"
    }
   },
   "source": [
    "Once we have the dataset, we should prepare it. Finding the missing or the NaN values and replace them with suitable values (in this case we use the value of the previous elemnt in the sequence)."
   ]
  },
  {
   "cell_type": "code",
   "execution_count": 5,
   "metadata": {
    "pycharm": {
     "is_executing": true,
     "name": "#%%\n"
    }
   },
   "outputs": [
    {
     "name": "stdout",
     "output_type": "stream",
     "text": [
      "Number of rows with NaN values before cleaning: 2546\n",
      "Number of rows with NaN values after cleaning: 0\n",
      "Total number of samples: 63360\n",
      "Number of features: 19\n"
     ]
    }
   ],
   "source": [
    "# Replace all mising values with NaN\n",
    "dataset = dataset.replace(' ', np.nan)\n",
    "# Search for all the rows with NaN values\n",
    "nan_values = dataset[dataset.isna().any(axis=1)]\n",
    "# Print the shape to know how many are there\n",
    "print(f'Number of rows with NaN values before cleaning: {nan_values.shape[0]}') \n",
    "\n",
    "# Fill all NaN values with the previous row value\n",
    "dataset_clean = dataset.fillna(method='ffill')\n",
    "\n",
    "# Check that there isn't any NaN values\n",
    "nan_values = dataset_clean[dataset_clean.isna().any(axis=1)]\n",
    "# Print the shape to know how many are there\n",
    "print(f'Number of rows with NaN values after cleaning: {nan_values.shape[0]}') \n",
    "\n",
    "#Total number of samples\n",
    "print(f'Total number of samples: {dataset_clean.shape[0]}')\n",
    "print(f'Number of features: {dataset_clean.shape[1]}')"
   ]
  },
  {
   "cell_type": "markdown",
   "metadata": {
    "pycharm": {
     "name": "#%% md\n"
    }
   },
   "source": [
    "# Distribution of the data"
   ]
  },
  {
   "cell_type": "markdown",
   "metadata": {
    "pycharm": {
     "name": "#%% md\n"
    }
   },
   "source": [
    "Now we look at the distribution of the different features of the data over different time intervals.\n",
    "First we take a look of the min and max values, mean and median value and the standard deviation of every feature."
   ]
  },
  {
   "cell_type": "code",
   "execution_count": 6,
   "metadata": {
    "pycharm": {
     "name": "#%%\n"
    }
   },
   "outputs": [],
   "source": [
    "print_data = False\n",
    "print_graphs = False"
   ]
  },
  {
   "cell_type": "code",
   "execution_count": 7,
   "metadata": {
    "pycharm": {
     "name": "#%%\n"
    }
   },
   "outputs": [],
   "source": [
    "if print_data is True:\n",
    "  for column in dataset_clean.columns:\n",
    "    if column == 'time':\n",
    "      print(column)\n",
    "      print('Min value: ', dataset_clean[column].min())\n",
    "      print('Max value: ', dataset_clean[column].max())\n",
    "      print('')\n",
    "    else:\n",
    "      print(column)\n",
    "      print('Min value: ', dataset_clean[column].min())\n",
    "      print('Max value: ', dataset_clean[column].max())\n",
    "      print('Mean value: ', dataset_clean[column].mean())\n",
    "      print('Median value: ', dataset_clean[column].median())\n",
    "      print('Standard deviation: ', dataset_clean[column].std())\n",
    "      print('')\n",
    "print_data = False"
   ]
  },
  {
   "cell_type": "code",
   "execution_count": 8,
   "metadata": {
    "pycharm": {
     "name": "#%%\n"
    }
   },
   "outputs": [],
   "source": [
    "print_graphs = False\n",
    "if print_graphs is True:\n",
    "\n",
    "  for i, column in enumerate(dataset_clean.columns):\n",
    "    if i > 0 & i<3:\n",
    "      # Feature in a weekly interval\n",
    "      utils_bsc.week_plot(dataset_clean, i, column)\n",
    "      # Feature in a daily interval (only the values of weekdays between 4:00 and 19:30)\n",
    "      utils_bsc.daily_plot(dataset_clean, i, column)\n",
    "print_graphs = False"
   ]
  },
  {
   "cell_type": "code",
   "execution_count": 9,
   "metadata": {
    "pycharm": {
     "name": "#%%\n"
    }
   },
   "outputs": [],
   "source": [
    "print_graphs = False\n",
    "# 我们打印一些图表来显示每个特征的密度分布\n",
    "if print_graphs is True:\n",
    "  for column in tqdm(dataset_clean.columns):\n",
    "    if column != 'time':\n",
    "      sns.displot(dataset_clean, x=column, kind=\"kde\")"
   ]
  },
  {
   "cell_type": "markdown",
   "metadata": {
    "pycharm": {
     "name": "#%% md\n"
    }
   },
   "source": [
    "After looking to the different data graphs i notice there two very different \"time slots\" when the data differs. One is Weekdays between 4:00 and 19:30. The other is Weekdays bewteen 19:30 and 4:00 and Weekends."
   ]
  },
  {
   "cell_type": "code",
   "execution_count": 10,
   "metadata": {
    "pycharm": {
     "name": "#%%\n"
    }
   },
   "outputs": [
    {
     "name": "stdout",
     "output_type": "stream",
     "text": [
      "Weekdays dataset size: 29792\n",
      "Weekend dataset size: 33568\n"
     ]
    }
   ],
   "source": [
    "# 我们创建了两个额外的数据集，一个包含工作日 4:00 到 18:30 之间，一个包含其余数据集。\n",
    "dataset_clean_time = pd.to_datetime(dataset_clean['time'])\n",
    "\n",
    "day_mask = dataset_clean_time.dt.day_name()\n",
    "\n",
    "time_mask = (dataset_clean_time.dt.hour >= 4) & ((dataset_clean_time.dt.hour < 19) | ((dataset_clean_time.dt.hour == 19) & (dataset_clean_time.dt.minute <= 30))) & ((day_mask == ('Monday')) | (day_mask == ('Tuesday')) | (day_mask == ('Wednesday')) | (day_mask == ('Thursday')) | (day_mask == ('Friday')))\n",
    "\n",
    "dataset_weekdays = dataset_clean[time_mask]\n",
    "\n",
    "for i in range(len(time_mask)):\n",
    "  if time_mask[i] == False:\n",
    "    time_mask[i] = True\n",
    "  elif time_mask[i] == True:\n",
    "    time_mask[i] = False\n",
    "\n",
    "dataset_weekend = dataset_clean[time_mask]\n",
    "\n",
    "print(f'Weekdays dataset size: {len(dataset_weekdays)}')\n",
    "print(f'Weekend dataset size: {len(dataset_weekend)}')"
   ]
  },
  {
   "cell_type": "code",
   "execution_count": 11,
   "metadata": {
    "pycharm": {
     "name": "#%%\n"
    }
   },
   "outputs": [],
   "source": [
    "if print_graphs is True:\n",
    "  for column in tqdm(dataset_weekdays.columns):\n",
    "    if column != 'time':\n",
    "      sns.displot(dataset_weekdays, x=column, kind=\"kde\")"
   ]
  },
  {
   "cell_type": "code",
   "execution_count": 12,
   "metadata": {
    "pycharm": {
     "name": "#%%\n"
    }
   },
   "outputs": [],
   "source": [
    "if print_graphs is True:\n",
    "  for column in tqdm(dataset_weekend.columns):\n",
    "    if column != 'time':\n",
    "      sns.displot(dataset_weekend, x=column, kind=\"kde\")"
   ]
  },
  {
   "cell_type": "markdown",
   "metadata": {
    "pycharm": {
     "name": "#%% md\n"
    }
   },
   "source": [
    "At this time we have three different datasets:\n",
    "\n",
    "* dataset_clean (Whole dataset)\n",
    "* dataset_weekdays (Entries from weekdays from 4:00 to 19:30)\n",
    "* dataset_weekend (Entries from Weekends and from weekdays from 19:30 to 4:00)\n",
    "\n"
   ]
  },
  {
   "cell_type": "markdown",
   "metadata": {
    "pycharm": {
     "name": "#%% md\n"
    }
   },
   "source": [
    "# Dataset normalisation\n",
    "\n",
    "The scale of the data of the different features is very different. Its better to have all of the features in the same scale. Therefore we perform a data normalisation. We choose to do a mean/stddev normalisation. We substract from every value the mean value of the feature and divide the result value by the std dev of this specific feature to have feature values with mean 0 and stddev of 1."
   ]
  },
  {
   "cell_type": "code",
   "execution_count": 13,
   "metadata": {
    "pycharm": {
     "name": "#%%\n"
    }
   },
   "outputs": [
    {
     "name": "stderr",
     "output_type": "stream",
     "text": [
      "100%|█████████████████████████████████████████████████████████████████████████████████| 19/19 [00:00<00:00, 410.88it/s]\n"
     ]
    }
   ],
   "source": [
    "#在整个数据集中执行数据规范化。如果需要，我们可以打印数据的分布。\n",
    "dataset_norm = utils_bsc.normalize_mean_std_dataset(dataset_clean)\n",
    "\n",
    "print_graphs = False\n",
    "\n",
    "if print_graphs is True:\n",
    "  for column in tqdm(dataset_norm.columns):\n",
    "    if column != 'time':\n",
    "      sns.displot(dataset_norm, x=column, kind=\"kde\")"
   ]
  },
  {
   "cell_type": "code",
   "execution_count": 14,
   "metadata": {
    "pycharm": {
     "name": "#%%\n"
    }
   },
   "outputs": [
    {
     "name": "stderr",
     "output_type": "stream",
     "text": [
      "100%|█████████████████████████████████████████████████████████████████████████████████| 19/19 [00:00<00:00, 669.03it/s]\n"
     ]
    }
   ],
   "source": [
    "# Perform the data normalisation in the weekdays dataset. We can print the distribution of the data if we want.\n",
    "dataset_weekdays_norm = utils_bsc.normalize_mean_std_dataset(dataset_weekdays)\n",
    "\n",
    "print_graphs = False\n",
    "\n",
    "if print_graphs is True:\n",
    "  for column in tqdm(dataset_weekdays_norm.columns):\n",
    "    if column != 'time':\n",
    "      sns.displot(dataset_weekdays_norm, x=column, kind=\"kde\")"
   ]
  },
  {
   "cell_type": "code",
   "execution_count": 15,
   "metadata": {
    "pycharm": {
     "name": "#%%\n"
    }
   },
   "outputs": [
    {
     "name": "stderr",
     "output_type": "stream",
     "text": [
      "100%|█████████████████████████████████████████████████████████████████████████████████| 19/19 [00:00<00:00, 511.67it/s]\n"
     ]
    }
   ],
   "source": [
    "# Perform the data normalisation in the weekdays dataset. We can print the distribution of the data if we want.\n",
    "dataset_weekend_norm = utils_bsc.normalize_mean_std_dataset(dataset_weekend)\n",
    "\n",
    "print_graphs = False\n",
    "\n",
    "if print_graphs is True:\n",
    "  for column in tqdm(dataset_weekend_norm.columns):\n",
    "    if column != 'time':\n",
    "      sns.displot(dataset_weekend_norm, x=column, kind=\"kde\")"
   ]
  },
  {
   "cell_type": "code",
   "execution_count": 16,
   "metadata": {
    "pycharm": {
     "name": "#%%\n"
    }
   },
   "outputs": [
    {
     "data": {
      "text/html": [
       "<div>\n",
       "<style scoped>\n",
       "    .dataframe tbody tr th:only-of-type {\n",
       "        vertical-align: middle;\n",
       "    }\n",
       "\n",
       "    .dataframe tbody tr th {\n",
       "        vertical-align: top;\n",
       "    }\n",
       "\n",
       "    .dataframe thead th {\n",
       "        text-align: right;\n",
       "    }\n",
       "</style>\n",
       "<table border=\"1\" class=\"dataframe\">\n",
       "  <thead>\n",
       "    <tr style=\"text-align: right;\">\n",
       "      <th></th>\n",
       "      <th>time</th>\n",
       "      <th>PLN1</th>\n",
       "      <th>PLN2</th>\n",
       "      <th>PLN3</th>\n",
       "      <th>ULL1</th>\n",
       "      <th>ULL2</th>\n",
       "      <th>ULL3</th>\n",
       "      <th>COS_PHI1</th>\n",
       "      <th>COS_PHI2</th>\n",
       "      <th>COS_PHI3</th>\n",
       "      <th>FREQ</th>\n",
       "      <th>RC_DC</th>\n",
       "      <th>RC_AC</th>\n",
       "      <th>RC_50Hz</th>\n",
       "      <th>RC_150Hz</th>\n",
       "      <th>RC_&lt;100Hz</th>\n",
       "      <th>RC_100Hz-1kHz</th>\n",
       "      <th>RC_&gt;1kHz</th>\n",
       "      <th>RC_&gt;10kHz</th>\n",
       "    </tr>\n",
       "  </thead>\n",
       "  <tbody>\n",
       "    <tr>\n",
       "      <th>0</th>\n",
       "      <td>2020-06-01 00:00:00</td>\n",
       "      <td>-1.075593</td>\n",
       "      <td>-1.045021</td>\n",
       "      <td>-1.051232</td>\n",
       "      <td>0.063478</td>\n",
       "      <td>-0.098312</td>\n",
       "      <td>-0.618908</td>\n",
       "      <td>-1.868350</td>\n",
       "      <td>-1.835847</td>\n",
       "      <td>-1.500292</td>\n",
       "      <td>-0.345935</td>\n",
       "      <td>-0.817380</td>\n",
       "      <td>0.632551</td>\n",
       "      <td>1.075812</td>\n",
       "      <td>0.995360</td>\n",
       "      <td>1.143832</td>\n",
       "      <td>0.694697</td>\n",
       "      <td>0.747095</td>\n",
       "      <td>2.141318</td>\n",
       "    </tr>\n",
       "    <tr>\n",
       "      <th>1</th>\n",
       "      <td>2020-06-01 00:01:00</td>\n",
       "      <td>-1.074875</td>\n",
       "      <td>-1.045103</td>\n",
       "      <td>-1.048747</td>\n",
       "      <td>0.027004</td>\n",
       "      <td>-0.107515</td>\n",
       "      <td>-0.632738</td>\n",
       "      <td>-1.884005</td>\n",
       "      <td>-1.803753</td>\n",
       "      <td>-1.486828</td>\n",
       "      <td>-1.139728</td>\n",
       "      <td>0.678985</td>\n",
       "      <td>-0.849829</td>\n",
       "      <td>-0.918340</td>\n",
       "      <td>-0.792166</td>\n",
       "      <td>-0.630653</td>\n",
       "      <td>-0.822036</td>\n",
       "      <td>-0.777047</td>\n",
       "      <td>-1.175568</td>\n",
       "    </tr>\n",
       "    <tr>\n",
       "      <th>2</th>\n",
       "      <td>2020-06-01 00:02:00</td>\n",
       "      <td>-1.075615</td>\n",
       "      <td>-0.988316</td>\n",
       "      <td>-1.050631</td>\n",
       "      <td>-0.028760</td>\n",
       "      <td>-0.116055</td>\n",
       "      <td>-0.636846</td>\n",
       "      <td>-1.837041</td>\n",
       "      <td>0.147415</td>\n",
       "      <td>-1.532327</td>\n",
       "      <td>-1.123638</td>\n",
       "      <td>-0.817380</td>\n",
       "      <td>-0.849829</td>\n",
       "      <td>-0.918340</td>\n",
       "      <td>-0.792166</td>\n",
       "      <td>-0.630653</td>\n",
       "      <td>-0.822036</td>\n",
       "      <td>-0.777047</td>\n",
       "      <td>-1.175568</td>\n",
       "    </tr>\n",
       "    <tr>\n",
       "      <th>3</th>\n",
       "      <td>2020-06-01 00:03:00</td>\n",
       "      <td>-1.073661</td>\n",
       "      <td>-0.988798</td>\n",
       "      <td>-1.049922</td>\n",
       "      <td>0.089264</td>\n",
       "      <td>-0.043667</td>\n",
       "      <td>-0.556540</td>\n",
       "      <td>-1.643493</td>\n",
       "      <td>0.023152</td>\n",
       "      <td>-1.545327</td>\n",
       "      <td>-0.758922</td>\n",
       "      <td>0.678985</td>\n",
       "      <td>-0.740023</td>\n",
       "      <td>-0.253623</td>\n",
       "      <td>-0.643206</td>\n",
       "      <td>-0.630653</td>\n",
       "      <td>-0.763700</td>\n",
       "      <td>-0.664147</td>\n",
       "      <td>-1.175568</td>\n",
       "    </tr>\n",
       "    <tr>\n",
       "      <th>4</th>\n",
       "      <td>2020-06-01 00:04:00</td>\n",
       "      <td>-1.075401</td>\n",
       "      <td>-0.988670</td>\n",
       "      <td>-1.050114</td>\n",
       "      <td>0.031327</td>\n",
       "      <td>-0.071754</td>\n",
       "      <td>-0.608493</td>\n",
       "      <td>-1.882582</td>\n",
       "      <td>0.161405</td>\n",
       "      <td>-1.650254</td>\n",
       "      <td>-0.726741</td>\n",
       "      <td>-0.817380</td>\n",
       "      <td>0.303134</td>\n",
       "      <td>1.740530</td>\n",
       "      <td>1.889123</td>\n",
       "      <td>1.950416</td>\n",
       "      <td>0.053002</td>\n",
       "      <td>-0.043201</td>\n",
       "      <td>1.477941</td>\n",
       "    </tr>\n",
       "  </tbody>\n",
       "</table>\n",
       "</div>"
      ],
      "text/plain": [
       "                  time      PLN1      PLN2      PLN3      ULL1      ULL2  \\\n",
       "0  2020-06-01 00:00:00 -1.075593 -1.045021 -1.051232  0.063478 -0.098312   \n",
       "1  2020-06-01 00:01:00 -1.074875 -1.045103 -1.048747  0.027004 -0.107515   \n",
       "2  2020-06-01 00:02:00 -1.075615 -0.988316 -1.050631 -0.028760 -0.116055   \n",
       "3  2020-06-01 00:03:00 -1.073661 -0.988798 -1.049922  0.089264 -0.043667   \n",
       "4  2020-06-01 00:04:00 -1.075401 -0.988670 -1.050114  0.031327 -0.071754   \n",
       "\n",
       "       ULL3  COS_PHI1  COS_PHI2  COS_PHI3      FREQ     RC_DC     RC_AC  \\\n",
       "0 -0.618908 -1.868350 -1.835847 -1.500292 -0.345935 -0.817380  0.632551   \n",
       "1 -0.632738 -1.884005 -1.803753 -1.486828 -1.139728  0.678985 -0.849829   \n",
       "2 -0.636846 -1.837041  0.147415 -1.532327 -1.123638 -0.817380 -0.849829   \n",
       "3 -0.556540 -1.643493  0.023152 -1.545327 -0.758922  0.678985 -0.740023   \n",
       "4 -0.608493 -1.882582  0.161405 -1.650254 -0.726741 -0.817380  0.303134   \n",
       "\n",
       "    RC_50Hz  RC_150Hz  RC_<100Hz  RC_100Hz-1kHz  RC_>1kHz  RC_>10kHz  \n",
       "0  1.075812  0.995360   1.143832       0.694697  0.747095   2.141318  \n",
       "1 -0.918340 -0.792166  -0.630653      -0.822036 -0.777047  -1.175568  \n",
       "2 -0.918340 -0.792166  -0.630653      -0.822036 -0.777047  -1.175568  \n",
       "3 -0.253623 -0.643206  -0.630653      -0.763700 -0.664147  -1.175568  \n",
       "4  1.740530  1.889123   1.950416       0.053002 -0.043201   1.477941  "
      ]
     },
     "execution_count": 16,
     "metadata": {},
     "output_type": "execute_result"
    }
   ],
   "source": [
    "dataset_norm.head()"
   ]
  },
  {
   "cell_type": "code",
   "execution_count": 17,
   "metadata": {
    "pycharm": {
     "name": "#%%\n"
    }
   },
   "outputs": [
    {
     "data": {
      "text/html": [
       "<div>\n",
       "<style scoped>\n",
       "    .dataframe tbody tr th:only-of-type {\n",
       "        vertical-align: middle;\n",
       "    }\n",
       "\n",
       "    .dataframe tbody tr th {\n",
       "        vertical-align: top;\n",
       "    }\n",
       "\n",
       "    .dataframe thead th {\n",
       "        text-align: right;\n",
       "    }\n",
       "</style>\n",
       "<table border=\"1\" class=\"dataframe\">\n",
       "  <thead>\n",
       "    <tr style=\"text-align: right;\">\n",
       "      <th></th>\n",
       "      <th>time</th>\n",
       "      <th>PLN1</th>\n",
       "      <th>PLN2</th>\n",
       "      <th>PLN3</th>\n",
       "      <th>ULL1</th>\n",
       "      <th>ULL2</th>\n",
       "      <th>ULL3</th>\n",
       "      <th>COS_PHI1</th>\n",
       "      <th>COS_PHI2</th>\n",
       "      <th>COS_PHI3</th>\n",
       "      <th>FREQ</th>\n",
       "      <th>RC_DC</th>\n",
       "      <th>RC_AC</th>\n",
       "      <th>RC_50Hz</th>\n",
       "      <th>RC_150Hz</th>\n",
       "      <th>RC_&lt;100Hz</th>\n",
       "      <th>RC_100Hz-1kHz</th>\n",
       "      <th>RC_&gt;1kHz</th>\n",
       "      <th>RC_&gt;10kHz</th>\n",
       "    </tr>\n",
       "  </thead>\n",
       "  <tbody>\n",
       "    <tr>\n",
       "      <th>240</th>\n",
       "      <td>2020-06-01 04:00:00</td>\n",
       "      <td>-3.844526</td>\n",
       "      <td>-2.815111</td>\n",
       "      <td>-3.811858</td>\n",
       "      <td>1.679619</td>\n",
       "      <td>1.570822</td>\n",
       "      <td>1.782563</td>\n",
       "      <td>-1.458455</td>\n",
       "      <td>-0.043591</td>\n",
       "      <td>-11.695581</td>\n",
       "      <td>-0.570289</td>\n",
       "      <td>-0.884008</td>\n",
       "      <td>-3.224201</td>\n",
       "      <td>-1.568103</td>\n",
       "      <td>-1.701045</td>\n",
       "      <td>-1.466370</td>\n",
       "      <td>-3.271799</td>\n",
       "      <td>-2.865462</td>\n",
       "      <td>-1.695805</td>\n",
       "    </tr>\n",
       "    <tr>\n",
       "      <th>241</th>\n",
       "      <td>2020-06-01 04:01:00</td>\n",
       "      <td>-3.846186</td>\n",
       "      <td>-3.787824</td>\n",
       "      <td>-3.823188</td>\n",
       "      <td>1.763631</td>\n",
       "      <td>1.696076</td>\n",
       "      <td>1.843617</td>\n",
       "      <td>-1.467086</td>\n",
       "      <td>-2.835547</td>\n",
       "      <td>-11.782866</td>\n",
       "      <td>0.903443</td>\n",
       "      <td>2.133621</td>\n",
       "      <td>-3.224201</td>\n",
       "      <td>-1.568103</td>\n",
       "      <td>-1.701045</td>\n",
       "      <td>-1.466370</td>\n",
       "      <td>-3.357651</td>\n",
       "      <td>-2.939190</td>\n",
       "      <td>-1.695805</td>\n",
       "    </tr>\n",
       "    <tr>\n",
       "      <th>242</th>\n",
       "      <td>2020-06-01 04:02:00</td>\n",
       "      <td>-3.839272</td>\n",
       "      <td>-1.875102</td>\n",
       "      <td>-2.712874</td>\n",
       "      <td>1.852445</td>\n",
       "      <td>1.730759</td>\n",
       "      <td>1.917486</td>\n",
       "      <td>-1.557711</td>\n",
       "      <td>0.058113</td>\n",
       "      <td>-1.543490</td>\n",
       "      <td>0.445873</td>\n",
       "      <td>0.624807</td>\n",
       "      <td>-1.273229</td>\n",
       "      <td>-0.765503</td>\n",
       "      <td>-1.118658</td>\n",
       "      <td>-0.885575</td>\n",
       "      <td>-1.211362</td>\n",
       "      <td>-0.948518</td>\n",
       "      <td>-0.928865</td>\n",
       "    </tr>\n",
       "    <tr>\n",
       "      <th>243</th>\n",
       "      <td>2020-06-01 04:03:00</td>\n",
       "      <td>-3.842709</td>\n",
       "      <td>-3.088604</td>\n",
       "      <td>-3.827000</td>\n",
       "      <td>1.832063</td>\n",
       "      <td>1.744944</td>\n",
       "      <td>1.905749</td>\n",
       "      <td>-1.475716</td>\n",
       "      <td>-0.716154</td>\n",
       "      <td>-12.237347</td>\n",
       "      <td>-0.219683</td>\n",
       "      <td>0.624807</td>\n",
       "      <td>-1.923553</td>\n",
       "      <td>-1.568103</td>\n",
       "      <td>-1.312787</td>\n",
       "      <td>-1.272772</td>\n",
       "      <td>-2.069878</td>\n",
       "      <td>-1.538347</td>\n",
       "      <td>-0.928865</td>\n",
       "    </tr>\n",
       "    <tr>\n",
       "      <th>244</th>\n",
       "      <td>2020-06-01 04:04:00</td>\n",
       "      <td>-3.844287</td>\n",
       "      <td>-2.842539</td>\n",
       "      <td>-3.450520</td>\n",
       "      <td>1.753998</td>\n",
       "      <td>1.623568</td>\n",
       "      <td>1.808403</td>\n",
       "      <td>-1.527502</td>\n",
       "      <td>-0.430725</td>\n",
       "      <td>-5.973931</td>\n",
       "      <td>-0.611886</td>\n",
       "      <td>-0.884008</td>\n",
       "      <td>-1.842262</td>\n",
       "      <td>-0.765503</td>\n",
       "      <td>-1.312787</td>\n",
       "      <td>-1.272772</td>\n",
       "      <td>-2.069878</td>\n",
       "      <td>-1.464618</td>\n",
       "      <td>-0.928865</td>\n",
       "    </tr>\n",
       "  </tbody>\n",
       "</table>\n",
       "</div>"
      ],
      "text/plain": [
       "                    time      PLN1      PLN2      PLN3      ULL1      ULL2  \\\n",
       "240  2020-06-01 04:00:00 -3.844526 -2.815111 -3.811858  1.679619  1.570822   \n",
       "241  2020-06-01 04:01:00 -3.846186 -3.787824 -3.823188  1.763631  1.696076   \n",
       "242  2020-06-01 04:02:00 -3.839272 -1.875102 -2.712874  1.852445  1.730759   \n",
       "243  2020-06-01 04:03:00 -3.842709 -3.088604 -3.827000  1.832063  1.744944   \n",
       "244  2020-06-01 04:04:00 -3.844287 -2.842539 -3.450520  1.753998  1.623568   \n",
       "\n",
       "         ULL3  COS_PHI1  COS_PHI2   COS_PHI3      FREQ     RC_DC     RC_AC  \\\n",
       "240  1.782563 -1.458455 -0.043591 -11.695581 -0.570289 -0.884008 -3.224201   \n",
       "241  1.843617 -1.467086 -2.835547 -11.782866  0.903443  2.133621 -3.224201   \n",
       "242  1.917486 -1.557711  0.058113  -1.543490  0.445873  0.624807 -1.273229   \n",
       "243  1.905749 -1.475716 -0.716154 -12.237347 -0.219683  0.624807 -1.923553   \n",
       "244  1.808403 -1.527502 -0.430725  -5.973931 -0.611886 -0.884008 -1.842262   \n",
       "\n",
       "      RC_50Hz  RC_150Hz  RC_<100Hz  RC_100Hz-1kHz  RC_>1kHz  RC_>10kHz  \n",
       "240 -1.568103 -1.701045  -1.466370      -3.271799 -2.865462  -1.695805  \n",
       "241 -1.568103 -1.701045  -1.466370      -3.357651 -2.939190  -1.695805  \n",
       "242 -0.765503 -1.118658  -0.885575      -1.211362 -0.948518  -0.928865  \n",
       "243 -1.568103 -1.312787  -1.272772      -2.069878 -1.538347  -0.928865  \n",
       "244 -0.765503 -1.312787  -1.272772      -2.069878 -1.464618  -0.928865  "
      ]
     },
     "execution_count": 17,
     "metadata": {},
     "output_type": "execute_result"
    }
   ],
   "source": [
    "dataset_weekdays_norm.head()"
   ]
  },
  {
   "cell_type": "code",
   "execution_count": 18,
   "metadata": {
    "pycharm": {
     "name": "#%%\n"
    }
   },
   "outputs": [
    {
     "data": {
      "text/html": [
       "<div>\n",
       "<style scoped>\n",
       "    .dataframe tbody tr th:only-of-type {\n",
       "        vertical-align: middle;\n",
       "    }\n",
       "\n",
       "    .dataframe tbody tr th {\n",
       "        vertical-align: top;\n",
       "    }\n",
       "\n",
       "    .dataframe thead th {\n",
       "        text-align: right;\n",
       "    }\n",
       "</style>\n",
       "<table border=\"1\" class=\"dataframe\">\n",
       "  <thead>\n",
       "    <tr style=\"text-align: right;\">\n",
       "      <th></th>\n",
       "      <th>time</th>\n",
       "      <th>PLN1</th>\n",
       "      <th>PLN2</th>\n",
       "      <th>PLN3</th>\n",
       "      <th>ULL1</th>\n",
       "      <th>ULL2</th>\n",
       "      <th>ULL3</th>\n",
       "      <th>COS_PHI1</th>\n",
       "      <th>COS_PHI2</th>\n",
       "      <th>COS_PHI3</th>\n",
       "      <th>FREQ</th>\n",
       "      <th>RC_DC</th>\n",
       "      <th>RC_AC</th>\n",
       "      <th>RC_50Hz</th>\n",
       "      <th>RC_150Hz</th>\n",
       "      <th>RC_&lt;100Hz</th>\n",
       "      <th>RC_100Hz-1kHz</th>\n",
       "      <th>RC_&gt;1kHz</th>\n",
       "      <th>RC_&gt;10kHz</th>\n",
       "    </tr>\n",
       "  </thead>\n",
       "  <tbody>\n",
       "    <tr>\n",
       "      <th>0</th>\n",
       "      <td>2020-06-01 00:00:00</td>\n",
       "      <td>-0.520051</td>\n",
       "      <td>-0.469417</td>\n",
       "      <td>-0.491179</td>\n",
       "      <td>-0.852017</td>\n",
       "      <td>-1.003068</td>\n",
       "      <td>-1.783292</td>\n",
       "      <td>-1.338808</td>\n",
       "      <td>-1.189834</td>\n",
       "      <td>-0.885658</td>\n",
       "      <td>-0.479759</td>\n",
       "      <td>-0.761410</td>\n",
       "      <td>1.276387</td>\n",
       "      <td>1.388355</td>\n",
       "      <td>1.509262</td>\n",
       "      <td>1.555410</td>\n",
       "      <td>1.427389</td>\n",
       "      <td>1.381491</td>\n",
       "      <td>2.307679</td>\n",
       "    </tr>\n",
       "    <tr>\n",
       "      <th>1</th>\n",
       "      <td>2020-06-01 00:01:00</td>\n",
       "      <td>-0.518390</td>\n",
       "      <td>-0.469592</td>\n",
       "      <td>-0.485656</td>\n",
       "      <td>-0.905465</td>\n",
       "      <td>-1.016009</td>\n",
       "      <td>-1.803094</td>\n",
       "      <td>-1.356629</td>\n",
       "      <td>-1.159350</td>\n",
       "      <td>-0.870606</td>\n",
       "      <td>-1.233069</td>\n",
       "      <td>0.728477</td>\n",
       "      <td>-0.330467</td>\n",
       "      <td>-0.570467</td>\n",
       "      <td>-0.350376</td>\n",
       "      <td>-0.254028</td>\n",
       "      <td>-0.283821</td>\n",
       "      <td>-0.298828</td>\n",
       "      <td>-0.881879</td>\n",
       "    </tr>\n",
       "    <tr>\n",
       "      <th>2</th>\n",
       "      <td>2020-06-01 00:02:00</td>\n",
       "      <td>-0.520102</td>\n",
       "      <td>-0.348132</td>\n",
       "      <td>-0.489844</td>\n",
       "      <td>-0.987181</td>\n",
       "      <td>-1.028018</td>\n",
       "      <td>-1.808977</td>\n",
       "      <td>-1.303165</td>\n",
       "      <td>0.693881</td>\n",
       "      <td>-0.921471</td>\n",
       "      <td>-1.217799</td>\n",
       "      <td>-0.761410</td>\n",
       "      <td>-0.330467</td>\n",
       "      <td>-0.570467</td>\n",
       "      <td>-0.350376</td>\n",
       "      <td>-0.254028</td>\n",
       "      <td>-0.283821</td>\n",
       "      <td>-0.298828</td>\n",
       "      <td>-0.881879</td>\n",
       "    </tr>\n",
       "    <tr>\n",
       "      <th>3</th>\n",
       "      <td>2020-06-01 00:03:00</td>\n",
       "      <td>-0.515582</td>\n",
       "      <td>-0.349161</td>\n",
       "      <td>-0.488267</td>\n",
       "      <td>-0.814230</td>\n",
       "      <td>-0.926227</td>\n",
       "      <td>-1.693993</td>\n",
       "      <td>-1.082826</td>\n",
       "      <td>0.575856</td>\n",
       "      <td>-0.936003</td>\n",
       "      <td>-0.871684</td>\n",
       "      <td>0.728477</td>\n",
       "      <td>-0.211441</td>\n",
       "      <td>0.082473</td>\n",
       "      <td>-0.195407</td>\n",
       "      <td>-0.254028</td>\n",
       "      <td>-0.218005</td>\n",
       "      <td>-0.174360</td>\n",
       "      <td>-0.881879</td>\n",
       "    </tr>\n",
       "    <tr>\n",
       "      <th>4</th>\n",
       "      <td>2020-06-01 00:04:00</td>\n",
       "      <td>-0.519607</td>\n",
       "      <td>-0.348889</td>\n",
       "      <td>-0.488696</td>\n",
       "      <td>-0.899130</td>\n",
       "      <td>-0.965723</td>\n",
       "      <td>-1.768380</td>\n",
       "      <td>-1.355009</td>\n",
       "      <td>0.707168</td>\n",
       "      <td>-1.053303</td>\n",
       "      <td>-0.841144</td>\n",
       "      <td>-0.761410</td>\n",
       "      <td>0.919308</td>\n",
       "      <td>2.041296</td>\n",
       "      <td>2.439081</td>\n",
       "      <td>2.377882</td>\n",
       "      <td>0.703416</td>\n",
       "      <td>0.510214</td>\n",
       "      <td>1.669767</td>\n",
       "    </tr>\n",
       "  </tbody>\n",
       "</table>\n",
       "</div>"
      ],
      "text/plain": [
       "                  time      PLN1      PLN2      PLN3      ULL1      ULL2  \\\n",
       "0  2020-06-01 00:00:00 -0.520051 -0.469417 -0.491179 -0.852017 -1.003068   \n",
       "1  2020-06-01 00:01:00 -0.518390 -0.469592 -0.485656 -0.905465 -1.016009   \n",
       "2  2020-06-01 00:02:00 -0.520102 -0.348132 -0.489844 -0.987181 -1.028018   \n",
       "3  2020-06-01 00:03:00 -0.515582 -0.349161 -0.488267 -0.814230 -0.926227   \n",
       "4  2020-06-01 00:04:00 -0.519607 -0.348889 -0.488696 -0.899130 -0.965723   \n",
       "\n",
       "       ULL3  COS_PHI1  COS_PHI2  COS_PHI3      FREQ     RC_DC     RC_AC  \\\n",
       "0 -1.783292 -1.338808 -1.189834 -0.885658 -0.479759 -0.761410  1.276387   \n",
       "1 -1.803094 -1.356629 -1.159350 -0.870606 -1.233069  0.728477 -0.330467   \n",
       "2 -1.808977 -1.303165  0.693881 -0.921471 -1.217799 -0.761410 -0.330467   \n",
       "3 -1.693993 -1.082826  0.575856 -0.936003 -0.871684  0.728477 -0.211441   \n",
       "4 -1.768380 -1.355009  0.707168 -1.053303 -0.841144 -0.761410  0.919308   \n",
       "\n",
       "    RC_50Hz  RC_150Hz  RC_<100Hz  RC_100Hz-1kHz  RC_>1kHz  RC_>10kHz  \n",
       "0  1.388355  1.509262   1.555410       1.427389  1.381491   2.307679  \n",
       "1 -0.570467 -0.350376  -0.254028      -0.283821 -0.298828  -0.881879  \n",
       "2 -0.570467 -0.350376  -0.254028      -0.283821 -0.298828  -0.881879  \n",
       "3  0.082473 -0.195407  -0.254028      -0.218005 -0.174360  -0.881879  \n",
       "4  2.041296  2.439081   2.377882       0.703416  0.510214   1.669767  "
      ]
     },
     "execution_count": 18,
     "metadata": {},
     "output_type": "execute_result"
    }
   ],
   "source": [
    "dataset_weekend_norm.head()"
   ]
  },
  {
   "cell_type": "markdown",
   "metadata": {
    "pycharm": {
     "name": "#%% md\n"
    }
   },
   "source": [
    "At this moment we have six different datasets to use:\n",
    "* dataset_clean (Whole dataset)\n",
    "* dataset_weekdays (Entries from weekdays from 4:00 to 19:30)\n",
    "* dataset_weekend (Entries from Weekends and from weekdays from 19:30 to 4:00)\n",
    "* dataset_norm (Whole dataset, mean/stddev normalised)\n",
    "* dataset_weekdays_norm (Entries from weekdays from 4:00 to 19:30, mean/stddev normalised)\n",
    "* dataset_weekend_norm (Entries from Weekends and from weekdays from 19:30 to 4:00, mean/stddev normalised)"
   ]
  },
  {
   "cell_type": "markdown",
   "metadata": {
    "pycharm": {
     "name": "#%% md\n"
    }
   },
   "source": [
    "# Correlation between features"
   ]
  },
  {
   "cell_type": "markdown",
   "metadata": {
    "pycharm": {
     "name": "#%% md\n"
    }
   },
   "source": [
    "We calculate the pearson correlation of all features and plot them into a heat map"
   ]
  },
  {
   "cell_type": "code",
   "execution_count": 19,
   "metadata": {
    "pycharm": {
     "name": "#%%\n"
    }
   },
   "outputs": [
    {
     "name": "stdout",
     "output_type": "stream",
     "text": [
      "Correlation between PLN1 and PLN1\n",
      "Correlation between PLN1 and PLN2\n",
      "0.9530638927686161\n",
      "Correlation between PLN1 and PLN3\n",
      "0.9606664987977854\n",
      "Correlation between PLN1 and ULL1\n",
      "-0.727401637634178\n",
      "Correlation between PLN1 and ULL2\n",
      "-0.6955282277514697\n",
      "Correlation between PLN1 and ULL3\n",
      "-0.7030835410050382\n",
      "Correlation between PLN1 and COS_PHI1\n",
      "0.8410401295195361\n",
      "Correlation between PLN1 and COS_PHI2\n",
      "0.6731338062873105\n",
      "Correlation between PLN1 and COS_PHI3\n",
      "0.8122370309192151\n",
      "Correlation between PLN1 and FREQ\n",
      "-0.1545159794969927\n",
      "Correlation between PLN1 and RC_DC\n",
      "0.041447902380906156\n",
      "Correlation between PLN1 and RC_AC\n",
      "0.6311099014117804\n",
      "Correlation between PLN1 and RC_50Hz\n",
      "0.3688113546135111\n",
      "Correlation between PLN1 and RC_150Hz\n",
      "0.5078743784519383\n",
      "Correlation between PLN1 and RC_<100Hz\n",
      "0.4309325330867659\n",
      "Correlation between PLN1 and RC_100Hz-1kHz\n",
      "0.6585953463453891\n",
      "Correlation between PLN1 and RC_>1kHz\n",
      "0.5928797475823843\n",
      "Correlation between PLN1 and RC_>10kHz\n",
      "0.3161918341465537\n",
      "Mean of PLN1 correlations: 0.5922655142470218\n",
      "\n",
      "Correlation between PLN2 and PLN1\n",
      "0.9530638927686161\n",
      "Correlation between PLN2 and PLN2\n",
      "Correlation between PLN2 and PLN3\n",
      "0.9452605980705133\n",
      "Correlation between PLN2 and ULL1\n",
      "-0.6920070109902806\n",
      "Correlation between PLN2 and ULL2\n",
      "-0.6704566233203504\n",
      "Correlation between PLN2 and ULL3\n",
      "-0.6734582119423181\n",
      "Correlation between PLN2 and COS_PHI1\n",
      "0.7986365971843634\n",
      "Correlation between PLN2 and COS_PHI2\n",
      "0.7023352006830496\n",
      "Correlation between PLN2 and COS_PHI3\n",
      "0.8038123821731533\n",
      "Correlation between PLN2 and FREQ\n",
      "-0.14213527867385353\n",
      "Correlation between PLN2 and RC_DC\n",
      "0.03920776273389812\n",
      "Correlation between PLN2 and RC_AC\n",
      "0.6232451337648502\n",
      "Correlation between PLN2 and RC_50Hz\n",
      "0.358995472175193\n",
      "Correlation between PLN2 and RC_150Hz\n",
      "0.49084689121247504\n",
      "Correlation between PLN2 and RC_<100Hz\n",
      "0.4172313931163454\n",
      "Correlation between PLN2 and RC_100Hz-1kHz\n",
      "0.6488235868701702\n",
      "Correlation between PLN2 and RC_>1kHz\n",
      "0.5891663952522228\n",
      "Correlation between PLN2 and RC_>10kHz\n",
      "0.3118843831224032\n",
      "Mean of PLN2 correlations: 0.5800333420031798\n",
      "\n",
      "Correlation between PLN3 and PLN1\n",
      "0.9606664987977854\n",
      "Correlation between PLN3 and PLN2\n",
      "0.9452605980705133\n",
      "Correlation between PLN3 and PLN3\n",
      "Correlation between PLN3 and ULL1\n",
      "-0.7002177438968474\n",
      "Correlation between PLN3 and ULL2\n",
      "-0.6722798995076357\n",
      "Correlation between PLN3 and ULL3\n",
      "-0.682115655836712\n",
      "Correlation between PLN3 and COS_PHI1\n",
      "0.8022338627218529\n",
      "Correlation between PLN3 and COS_PHI2\n",
      "0.6694582338358981\n",
      "Correlation between PLN3 and COS_PHI3\n",
      "0.8313797068885322\n",
      "Correlation between PLN3 and FREQ\n",
      "-0.14967487104652208\n",
      "Correlation between PLN3 and RC_DC\n",
      "0.04088450891644738\n",
      "Correlation between PLN3 and RC_AC\n",
      "0.628165773489285\n",
      "Correlation between PLN3 and RC_50Hz\n",
      "0.3656352287662712\n",
      "Correlation between PLN3 and RC_150Hz\n",
      "0.49896359795411904\n",
      "Correlation between PLN3 and RC_<100Hz\n",
      "0.42395344997898904\n",
      "Correlation between PLN3 and RC_100Hz-1kHz\n",
      "0.6539236685512879\n",
      "Correlation between PLN3 and RC_>1kHz\n",
      "0.5911138593179589\n",
      "Correlation between PLN3 and RC_>10kHz\n",
      "0.31781241506277863\n",
      "Mean of PLN3 correlations: 0.5843376219199669\n",
      "\n",
      "Correlation between ULL1 and PLN1\n",
      "-0.727401637634178\n",
      "Correlation between ULL1 and PLN2\n",
      "-0.6920070109902806\n",
      "Correlation between ULL1 and PLN3\n",
      "-0.7002177438968474\n",
      "Correlation between ULL1 and ULL1\n",
      "Correlation between ULL1 and ULL2\n",
      "0.9939941350683599\n",
      "Correlation between ULL1 and ULL3\n",
      "0.9618955396414085\n",
      "Correlation between ULL1 and COS_PHI1\n",
      "-0.6035602236966964\n",
      "Correlation between ULL1 and COS_PHI2\n",
      "-0.49980114685113497\n",
      "Correlation between ULL1 and COS_PHI3\n",
      "-0.5935572901249869\n",
      "Correlation between ULL1 and FREQ\n",
      "0.13197327822064742\n",
      "Correlation between ULL1 and RC_DC\n",
      "-0.019422769445639664\n",
      "Correlation between ULL1 and RC_AC\n",
      "-0.4224120693563288\n",
      "Correlation between ULL1 and RC_50Hz\n",
      "-0.27779168346606614\n",
      "Correlation between ULL1 and RC_150Hz\n",
      "-0.3920273758128221\n",
      "Correlation between ULL1 and RC_<100Hz\n",
      "-0.32940535648076164\n",
      "Correlation between ULL1 and RC_100Hz-1kHz\n",
      "-0.43980057374684034\n",
      "Correlation between ULL1 and RC_>1kHz\n",
      "-0.37447740688167563\n",
      "Correlation between ULL1 and RC_>10kHz\n",
      "-0.25420475464234843\n",
      "Mean of ULL1 correlations: 0.4949382350562954\n",
      "\n",
      "Correlation between ULL2 and PLN1\n",
      "-0.6955282277514697\n",
      "Correlation between ULL2 and PLN2\n",
      "-0.6704566233203504\n",
      "Correlation between ULL2 and PLN3\n",
      "-0.6722798995076357\n",
      "Correlation between ULL2 and ULL1\n",
      "0.9939941350683599\n",
      "Correlation between ULL2 and ULL2\n",
      "Correlation between ULL2 and ULL3\n",
      "0.9679344064619084\n",
      "Correlation between ULL2 and COS_PHI1\n",
      "-0.5720923780407855\n",
      "Correlation between ULL2 and COS_PHI2\n",
      "-0.47937831082658805\n",
      "Correlation between ULL2 and COS_PHI3\n",
      "-0.5677001126696039\n",
      "Correlation between ULL2 and FREQ\n",
      "0.1223444971347323\n",
      "Correlation between ULL2 and RC_DC\n",
      "-0.01568546341238987\n",
      "Correlation between ULL2 and RC_AC\n",
      "-0.4042360054210484\n",
      "Correlation between ULL2 and RC_50Hz\n",
      "-0.27269488072813725\n",
      "Correlation between ULL2 and RC_150Hz\n",
      "-0.3823625567194394\n",
      "Correlation between ULL2 and RC_<100Hz\n",
      "-0.32256670279212474\n",
      "Correlation between ULL2 and RC_100Hz-1kHz\n",
      "-0.42008689401137744\n",
      "Correlation between ULL2 and RC_>1kHz\n",
      "-0.35767437058385204\n",
      "Correlation between ULL2 and RC_>10kHz\n",
      "-0.24924688411542367\n",
      "Mean of ULL2 correlations: 0.4803683734450133\n",
      "\n",
      "Correlation between ULL3 and PLN1\n",
      "-0.7030835410050382\n",
      "Correlation between ULL3 and PLN2\n",
      "-0.6734582119423181\n",
      "Correlation between ULL3 and PLN3\n",
      "-0.682115655836712\n",
      "Correlation between ULL3 and ULL1\n",
      "0.9618955396414085\n",
      "Correlation between ULL3 and ULL2\n",
      "0.9679344064619084\n",
      "Correlation between ULL3 and ULL3\n",
      "Correlation between ULL3 and COS_PHI1\n",
      "-0.5631552795349813\n",
      "Correlation between ULL3 and COS_PHI2\n",
      "-0.46056835494110226\n",
      "Correlation between ULL3 and COS_PHI3\n",
      "-0.5678746499327131\n",
      "Correlation between ULL3 and FREQ\n",
      "0.1173225350558848\n",
      "Correlation between ULL3 and RC_DC\n",
      "-0.018546293523528327\n",
      "Correlation between ULL3 and RC_AC\n",
      "-0.4237420880482717\n",
      "Correlation between ULL3 and RC_50Hz\n",
      "-0.297245853712721\n",
      "Correlation between ULL3 and RC_150Hz\n",
      "-0.4149620582027391\n",
      "Correlation between ULL3 and RC_<100Hz\n",
      "-0.35093038054779235\n",
      "Correlation between ULL3 and RC_100Hz-1kHz\n",
      "-0.44085919789991945\n",
      "Correlation between ULL3 and RC_>1kHz\n",
      "-0.3748521278843219\n",
      "Correlation between ULL3 and RC_>10kHz\n",
      "-0.24276692772497824\n",
      "Mean of ULL3 correlations: 0.48595959422919643\n",
      "\n",
      "Correlation between COS_PHI1 and PLN1\n",
      "0.8410401295195361\n",
      "Correlation between COS_PHI1 and PLN2\n",
      "0.7986365971843634\n",
      "Correlation between COS_PHI1 and PLN3\n",
      "0.8022338627218529\n",
      "Correlation between COS_PHI1 and ULL1\n",
      "-0.6035602236966964\n",
      "Correlation between COS_PHI1 and ULL2\n",
      "-0.5720923780407855\n",
      "Correlation between COS_PHI1 and ULL3\n",
      "-0.5631552795349813\n",
      "Correlation between COS_PHI1 and COS_PHI1\n",
      "Correlation between COS_PHI1 and COS_PHI2\n",
      "0.6721486971436307\n",
      "Correlation between COS_PHI1 and COS_PHI3\n",
      "0.7679288479423112\n",
      "Correlation between COS_PHI1 and FREQ\n",
      "-0.14703514716770288\n",
      "Correlation between COS_PHI1 and RC_DC\n",
      "0.028560806482742673\n",
      "Correlation between COS_PHI1 and RC_AC\n",
      "0.5224505954850466\n",
      "Correlation between COS_PHI1 and RC_50Hz\n",
      "0.28598483106508676\n",
      "Correlation between COS_PHI1 and RC_150Hz\n",
      "0.40690341488990583\n",
      "Correlation between COS_PHI1 and RC_<100Hz\n",
      "0.34506225421962555\n",
      "Correlation between COS_PHI1 and RC_100Hz-1kHz\n",
      "0.5443587853537231\n",
      "Correlation between COS_PHI1 and RC_>1kHz\n",
      "0.4936793319894299\n",
      "Correlation between COS_PHI1 and RC_>10kHz\n",
      "0.27038433727544114\n",
      "Mean of COS_PHI1 correlations: 0.5097185599831096\n",
      "\n",
      "Correlation between COS_PHI2 and PLN1\n",
      "0.6731338062873105\n",
      "Correlation between COS_PHI2 and PLN2\n",
      "0.7023352006830496\n",
      "Correlation between COS_PHI2 and PLN3\n",
      "0.6694582338358981\n",
      "Correlation between COS_PHI2 and ULL1\n",
      "-0.49980114685113497\n",
      "Correlation between COS_PHI2 and ULL2\n",
      "-0.47937831082658805\n",
      "Correlation between COS_PHI2 and ULL3\n",
      "-0.46056835494110226\n",
      "Correlation between COS_PHI2 and COS_PHI1\n",
      "0.6721486971436307\n",
      "Correlation between COS_PHI2 and COS_PHI2\n",
      "Correlation between COS_PHI2 and COS_PHI3\n",
      "0.6853907893926214\n",
      "Correlation between COS_PHI2 and FREQ\n",
      "-0.11239331571367378\n",
      "Correlation between COS_PHI2 and RC_DC\n",
      "0.02451230427875363\n",
      "Correlation between COS_PHI2 and RC_AC\n",
      "0.42957439337353404\n",
      "Correlation between COS_PHI2 and RC_50Hz\n",
      "0.25029130339434147\n",
      "Correlation between COS_PHI2 and RC_150Hz\n",
      "0.3449231044067341\n",
      "Correlation between COS_PHI2 and RC_<100Hz\n",
      "0.29451321192232666\n",
      "Correlation between COS_PHI2 and RC_100Hz-1kHz\n",
      "0.44658403290924636\n",
      "Correlation between COS_PHI2 and RC_>1kHz\n",
      "0.405428891306359\n",
      "Correlation between COS_PHI2 and RC_>10kHz\n",
      "0.2320070395080783\n",
      "Mean of COS_PHI2 correlations: 0.434261302163199\n",
      "\n",
      "Correlation between COS_PHI3 and PLN1\n",
      "0.8122370309192151\n",
      "Correlation between COS_PHI3 and PLN2\n",
      "0.8038123821731533\n",
      "Correlation between COS_PHI3 and PLN3\n",
      "0.8313797068885322\n",
      "Correlation between COS_PHI3 and ULL1\n",
      "-0.5935572901249869\n",
      "Correlation between COS_PHI3 and ULL2\n",
      "-0.5677001126696039\n",
      "Correlation between COS_PHI3 and ULL3\n",
      "-0.5678746499327131\n",
      "Correlation between COS_PHI3 and COS_PHI1\n",
      "0.7679288479423112\n",
      "Correlation between COS_PHI3 and COS_PHI2\n",
      "0.6853907893926214\n",
      "Correlation between COS_PHI3 and COS_PHI3\n",
      "Correlation between COS_PHI3 and FREQ\n",
      "-0.13593458098321448\n",
      "Correlation between COS_PHI3 and RC_DC\n",
      "0.03770701540947715\n",
      "Correlation between COS_PHI3 and RC_AC\n",
      "0.5128776647152183\n",
      "Correlation between COS_PHI3 and RC_50Hz\n",
      "0.2954004112175189\n",
      "Correlation between COS_PHI3 and RC_150Hz\n",
      "0.41614317393217437\n",
      "Correlation between COS_PHI3 and RC_<100Hz\n",
      "0.3510288668281723\n",
      "Correlation between COS_PHI3 and RC_100Hz-1kHz\n",
      "0.5325198797906967\n",
      "Correlation between COS_PHI3 and RC_>1kHz\n",
      "0.4825962763757616\n",
      "Correlation between COS_PHI3 and RC_>10kHz\n",
      "0.2591023016571137\n",
      "Mean of COS_PHI3 correlations: 0.5090112341736757\n",
      "\n",
      "Correlation between FREQ and PLN1\n",
      "-0.1545159794969927\n",
      "Correlation between FREQ and PLN2\n",
      "-0.14213527867385353\n",
      "Correlation between FREQ and PLN3\n",
      "-0.14967487104652208\n",
      "Correlation between FREQ and ULL1\n",
      "0.13197327822064742\n",
      "Correlation between FREQ and ULL2\n",
      "0.1223444971347323\n",
      "Correlation between FREQ and ULL3\n",
      "0.1173225350558848\n",
      "Correlation between FREQ and COS_PHI1\n",
      "-0.14703514716770288\n",
      "Correlation between FREQ and COS_PHI2\n",
      "-0.11239331571367378\n",
      "Correlation between FREQ and COS_PHI3\n",
      "-0.13593458098321448\n",
      "Correlation between FREQ and FREQ\n",
      "Correlation between FREQ and RC_DC\n",
      "-0.010809999367105865\n",
      "Correlation between FREQ and RC_AC\n",
      "-0.10768675608573988\n",
      "Correlation between FREQ and RC_50Hz\n",
      "-0.059954061740045236\n",
      "Correlation between FREQ and RC_150Hz\n"
     ]
    },
    {
     "name": "stdout",
     "output_type": "stream",
     "text": [
      "-0.07462007247264732\n",
      "Correlation between FREQ and RC_<100Hz\n",
      "-0.058979144441292104\n",
      "Correlation between FREQ and RC_100Hz-1kHz\n",
      "-0.11163642547386084\n",
      "Correlation between FREQ and RC_>1kHz\n",
      "-0.10135632693877397\n",
      "Correlation between FREQ and RC_>10kHz\n",
      "-0.044164438899609276\n",
      "Mean of FREQ correlations: 0.10485510052425284\n",
      "\n",
      "Correlation between RC_DC and PLN1\n",
      "0.041447902380906156\n",
      "Correlation between RC_DC and PLN2\n",
      "0.03920776273389812\n",
      "Correlation between RC_DC and PLN3\n",
      "0.04088450891644738\n",
      "Correlation between RC_DC and ULL1\n",
      "-0.019422769445639664\n",
      "Correlation between RC_DC and ULL2\n",
      "-0.01568546341238987\n",
      "Correlation between RC_DC and ULL3\n",
      "-0.018546293523528327\n",
      "Correlation between RC_DC and COS_PHI1\n",
      "0.028560806482742673\n",
      "Correlation between RC_DC and COS_PHI2\n",
      "0.02451230427875363\n",
      "Correlation between RC_DC and COS_PHI3\n",
      "0.03770701540947715\n",
      "Correlation between RC_DC and FREQ\n",
      "-0.010809999367105865\n",
      "Correlation between RC_DC and RC_DC\n",
      "Correlation between RC_DC and RC_AC\n",
      "0.00940827540060927\n",
      "Correlation between RC_DC and RC_50Hz\n",
      "-0.06680533222157001\n",
      "Correlation between RC_DC and RC_150Hz\n",
      "-0.06653181935938089\n",
      "Correlation between RC_DC and RC_<100Hz\n",
      "-0.08081309086755882\n",
      "Correlation between RC_DC and RC_100Hz-1kHz\n",
      "0.01573317644502214\n",
      "Correlation between RC_DC and RC_>1kHz\n",
      "0.011862953683483885\n",
      "Correlation between RC_DC and RC_>10kHz\n",
      "-0.0770704801959081\n",
      "Mean of RC_DC correlations: 0.035588820830848356\n",
      "\n",
      "Correlation between RC_AC and PLN1\n",
      "0.6311099014117804\n",
      "Correlation between RC_AC and PLN2\n",
      "0.6232451337648502\n",
      "Correlation between RC_AC and PLN3\n",
      "0.628165773489285\n",
      "Correlation between RC_AC and ULL1\n",
      "-0.4224120693563288\n",
      "Correlation between RC_AC and ULL2\n",
      "-0.4042360054210484\n",
      "Correlation between RC_AC and ULL3\n",
      "-0.4237420880482717\n",
      "Correlation between RC_AC and COS_PHI1\n",
      "0.5224505954850466\n",
      "Correlation between RC_AC and COS_PHI2\n",
      "0.42957439337353404\n",
      "Correlation between RC_AC and COS_PHI3\n",
      "0.5128776647152183\n",
      "Correlation between RC_AC and FREQ\n",
      "-0.10768675608573988\n",
      "Correlation between RC_AC and RC_DC\n",
      "0.00940827540060927\n",
      "Correlation between RC_AC and RC_AC\n",
      "Correlation between RC_AC and RC_50Hz\n",
      "0.5988353180559401\n",
      "Correlation between RC_AC and RC_150Hz\n",
      "0.6870800166525869\n",
      "Correlation between RC_AC and RC_<100Hz\n",
      "0.647849754054101\n",
      "Correlation between RC_AC and RC_100Hz-1kHz\n",
      "0.9937633088247756\n",
      "Correlation between RC_AC and RC_>1kHz\n",
      "0.9856775813519927\n",
      "Correlation between RC_AC and RC_>10kHz\n",
      "0.6405906580239061\n",
      "Mean of RC_AC correlations: 0.5452179584420598\n",
      "\n",
      "Correlation between RC_50Hz and PLN1\n",
      "0.3688113546135111\n",
      "Correlation between RC_50Hz and PLN2\n",
      "0.358995472175193\n",
      "Correlation between RC_50Hz and PLN3\n",
      "0.3656352287662712\n",
      "Correlation between RC_50Hz and ULL1\n",
      "-0.27779168346606614\n",
      "Correlation between RC_50Hz and ULL2\n",
      "-0.27269488072813725\n",
      "Correlation between RC_50Hz and ULL3\n",
      "-0.297245853712721\n",
      "Correlation between RC_50Hz and COS_PHI1\n",
      "0.28598483106508676\n",
      "Correlation between RC_50Hz and COS_PHI2\n",
      "0.25029130339434147\n",
      "Correlation between RC_50Hz and COS_PHI3\n",
      "0.2954004112175189\n",
      "Correlation between RC_50Hz and FREQ\n",
      "-0.059954061740045236\n",
      "Correlation between RC_50Hz and RC_DC\n",
      "-0.06680533222157001\n",
      "Correlation between RC_50Hz and RC_AC\n",
      "0.5988353180559401\n",
      "Correlation between RC_50Hz and RC_50Hz\n",
      "Correlation between RC_50Hz and RC_150Hz\n",
      "0.9325844626970944\n",
      "Correlation between RC_50Hz and RC_<100Hz\n",
      "0.9378468651085988\n",
      "Correlation between RC_50Hz and RC_100Hz-1kHz\n",
      "0.5680814090699109\n",
      "Correlation between RC_50Hz and RC_>1kHz\n",
      "0.5226845889912005\n",
      "Correlation between RC_50Hz and RC_>10kHz\n",
      "0.821594325170042\n",
      "Mean of RC_50Hz correlations: 0.4283080813054852\n",
      "\n",
      "Correlation between RC_150Hz and PLN1\n",
      "0.5078743784519383\n",
      "Correlation between RC_150Hz and PLN2\n",
      "0.49084689121247504\n",
      "Correlation between RC_150Hz and PLN3\n",
      "0.49896359795411904\n",
      "Correlation between RC_150Hz and ULL1\n",
      "-0.3920273758128221\n",
      "Correlation between RC_150Hz and ULL2\n",
      "-0.3823625567194394\n",
      "Correlation between RC_150Hz and ULL3\n",
      "-0.4149620582027391\n",
      "Correlation between RC_150Hz and COS_PHI1\n",
      "0.40690341488990583\n",
      "Correlation between RC_150Hz and COS_PHI2\n",
      "0.3449231044067341\n",
      "Correlation between RC_150Hz and COS_PHI3\n",
      "0.41614317393217437\n",
      "Correlation between RC_150Hz and FREQ\n",
      "-0.07462007247264732\n",
      "Correlation between RC_150Hz and RC_DC\n",
      "-0.06653181935938089\n",
      "Correlation between RC_150Hz and RC_AC\n",
      "0.6870800166525869\n",
      "Correlation between RC_150Hz and RC_50Hz\n",
      "0.9325844626970944\n",
      "Correlation between RC_150Hz and RC_150Hz\n",
      "Correlation between RC_150Hz and RC_<100Hz\n",
      "0.9869431585782874\n",
      "Correlation between RC_150Hz and RC_100Hz-1kHz\n",
      "0.6594755799243152\n",
      "Correlation between RC_150Hz and RC_>1kHz\n",
      "0.6031328223115234\n",
      "Correlation between RC_150Hz and RC_>10kHz\n",
      "0.8525990801808159\n",
      "Mean of RC_150Hz correlations: 0.5128219743387646\n",
      "\n",
      "Correlation between RC_<100Hz and PLN1\n",
      "0.4309325330867659\n",
      "Correlation between RC_<100Hz and PLN2\n",
      "0.4172313931163454\n",
      "Correlation between RC_<100Hz and PLN3\n",
      "0.42395344997898904\n",
      "Correlation between RC_<100Hz and ULL1\n",
      "-0.32940535648076164\n",
      "Correlation between RC_<100Hz and ULL2\n",
      "-0.32256670279212474\n",
      "Correlation between RC_<100Hz and ULL3\n",
      "-0.35093038054779235\n",
      "Correlation between RC_<100Hz and COS_PHI1\n",
      "0.34506225421962555\n",
      "Correlation between RC_<100Hz and COS_PHI2\n",
      "0.29451321192232666\n",
      "Correlation between RC_<100Hz and COS_PHI3\n",
      "0.3510288668281723\n",
      "Correlation between RC_<100Hz and FREQ\n",
      "-0.058979144441292104\n",
      "Correlation between RC_<100Hz and RC_DC\n",
      "-0.08081309086755882\n",
      "Correlation between RC_<100Hz and RC_AC\n",
      "0.647849754054101\n",
      "Correlation between RC_<100Hz and RC_50Hz\n",
      "0.9378468651085988\n",
      "Correlation between RC_<100Hz and RC_150Hz\n",
      "0.9869431585782874\n",
      "Correlation between RC_<100Hz and RC_<100Hz\n",
      "Correlation between RC_<100Hz and RC_100Hz-1kHz\n",
      "0.6163156439742201\n",
      "Correlation between RC_<100Hz and RC_>1kHz\n",
      "0.5681934410881463\n",
      "Correlation between RC_<100Hz and RC_>10kHz\n",
      "0.8697462185366154\n",
      "Mean of RC_<100Hz correlations: 0.4724889097424544\n",
      "\n",
      "Correlation between RC_100Hz-1kHz and PLN1\n",
      "0.6585953463453891\n",
      "Correlation between RC_100Hz-1kHz and PLN2\n",
      "0.6488235868701702\n",
      "Correlation between RC_100Hz-1kHz and PLN3\n",
      "0.6539236685512879\n",
      "Correlation between RC_100Hz-1kHz and ULL1\n",
      "-0.43980057374684034\n",
      "Correlation between RC_100Hz-1kHz and ULL2\n",
      "-0.42008689401137744\n",
      "Correlation between RC_100Hz-1kHz and ULL3\n",
      "-0.44085919789991945\n",
      "Correlation between RC_100Hz-1kHz and COS_PHI1\n",
      "0.5443587853537231\n",
      "Correlation between RC_100Hz-1kHz and COS_PHI2\n",
      "0.44658403290924636\n",
      "Correlation between RC_100Hz-1kHz and COS_PHI3\n",
      "0.5325198797906967\n",
      "Correlation between RC_100Hz-1kHz and FREQ\n",
      "-0.11163642547386084\n",
      "Correlation between RC_100Hz-1kHz and RC_DC\n",
      "0.01573317644502214\n",
      "Correlation between RC_100Hz-1kHz and RC_AC\n",
      "0.9937633088247756\n",
      "Correlation between RC_100Hz-1kHz and RC_50Hz\n",
      "0.5680814090699109\n",
      "Correlation between RC_100Hz-1kHz and RC_150Hz\n",
      "0.6594755799243152\n",
      "Correlation between RC_100Hz-1kHz and RC_<100Hz\n",
      "0.6163156439742201\n",
      "Correlation between RC_100Hz-1kHz and RC_100Hz-1kHz\n",
      "Correlation between RC_100Hz-1kHz and RC_>1kHz\n",
      "0.9842987879976395\n",
      "Correlation between RC_100Hz-1kHz and RC_>10kHz\n",
      "0.6079125821841566\n",
      "Mean of RC_100Hz-1kHz correlations: 0.5495746399630912\n",
      "\n",
      "Correlation between RC_>1kHz and PLN1\n",
      "0.5928797475823843\n",
      "Correlation between RC_>1kHz and PLN2\n",
      "0.5891663952522228\n",
      "Correlation between RC_>1kHz and PLN3\n",
      "0.5911138593179589\n",
      "Correlation between RC_>1kHz and ULL1\n",
      "-0.37447740688167563\n",
      "Correlation between RC_>1kHz and ULL2\n",
      "-0.35767437058385204\n",
      "Correlation between RC_>1kHz and ULL3\n",
      "-0.3748521278843219\n",
      "Correlation between RC_>1kHz and COS_PHI1\n",
      "0.4936793319894299\n",
      "Correlation between RC_>1kHz and COS_PHI2\n",
      "0.405428891306359\n",
      "Correlation between RC_>1kHz and COS_PHI3\n",
      "0.4825962763757616\n",
      "Correlation between RC_>1kHz and FREQ\n",
      "-0.10135632693877397\n",
      "Correlation between RC_>1kHz and RC_DC\n",
      "0.011862953683483885\n",
      "Correlation between RC_>1kHz and RC_AC\n",
      "0.9856775813519927\n",
      "Correlation between RC_>1kHz and RC_50Hz\n",
      "0.5226845889912005\n",
      "Correlation between RC_>1kHz and RC_150Hz\n",
      "0.6031328223115234\n",
      "Correlation between RC_>1kHz and RC_<100Hz\n",
      "0.5681934410881463\n",
      "Correlation between RC_>1kHz and RC_100Hz-1kHz\n",
      "0.9842987879976395\n",
      "Correlation between RC_>1kHz and RC_>1kHz\n",
      "Correlation between RC_>1kHz and RC_>10kHz\n",
      "0.5866515939691285\n",
      "Mean of RC_>1kHz correlations: 0.507395676676815\n",
      "\n",
      "Correlation between RC_>10kHz and PLN1\n",
      "0.3161918341465537\n",
      "Correlation between RC_>10kHz and PLN2\n",
      "0.3118843831224032\n",
      "Correlation between RC_>10kHz and PLN3\n",
      "0.31781241506277863\n",
      "Correlation between RC_>10kHz and ULL1\n",
      "-0.25420475464234843\n",
      "Correlation between RC_>10kHz and ULL2\n",
      "-0.24924688411542367\n",
      "Correlation between RC_>10kHz and ULL3\n",
      "-0.24276692772497824\n",
      "Correlation between RC_>10kHz and COS_PHI1\n",
      "0.27038433727544114\n",
      "Correlation between RC_>10kHz and COS_PHI2\n",
      "0.2320070395080783\n",
      "Correlation between RC_>10kHz and COS_PHI3\n",
      "0.2591023016571137\n",
      "Correlation between RC_>10kHz and FREQ\n",
      "-0.044164438899609276\n",
      "Correlation between RC_>10kHz and RC_DC\n",
      "-0.0770704801959081\n",
      "Correlation between RC_>10kHz and RC_AC\n",
      "0.6405906580239061\n",
      "Correlation between RC_>10kHz and RC_50Hz\n",
      "0.821594325170042\n",
      "Correlation between RC_>10kHz and RC_150Hz\n",
      "0.8525990801808159\n",
      "Correlation between RC_>10kHz and RC_<100Hz\n",
      "0.8697462185366154\n",
      "Correlation between RC_>10kHz and RC_100Hz-1kHz\n",
      "0.6079125821841566\n",
      "Correlation between RC_>10kHz and RC_>1kHz\n",
      "0.5866515939691285\n",
      "Correlation between RC_>10kHz and RC_>10kHz\n",
      "Mean of RC_>10kHz correlations: 0.4090547208479589\n",
      "\n",
      "Mean of all correlations: 0.45756664777179923\n"
     ]
    }
   ],
   "source": [
    "correlations = []\n",
    "matrix = []\n",
    "\n",
    "for i in dataset_norm.columns[1:]:\n",
    "  feature = []\n",
    "  for j in dataset_norm.columns[1:]:\n",
    "    print(f'Correlation between {i} and {j}')\n",
    "    correlation = stats.pearsonr(dataset_norm[i], dataset_norm[j])[0]\n",
    "    if i != j:\n",
    "      correlations.append(abs(correlation))\n",
    "      feature.append(abs(correlation))\n",
    "      print(correlation)\n",
    "  print(f'Mean of {i} correlations: {np.mean(feature)}')\n",
    "  print('')\n",
    "  matrix.append(feature)\n",
    "\n",
    "print(f'Mean of all correlations: {np.mean(correlations)}')"
   ]
  },
  {
   "cell_type": "code",
   "execution_count": 20,
   "metadata": {
    "pycharm": {
     "name": "#%%\n"
    }
   },
   "outputs": [
    {
     "data": {
      "text/plain": [
       "<AxesSubplot:>"
      ]
     },
     "execution_count": 20,
     "metadata": {},
     "output_type": "execute_result"
    },
    {
     "data": {
      "image/png": "[encoded data removed]",
      "text/plain": [
       "<Figure size 432x288 with 2 Axes>"
      ]
     },
     "metadata": {
      "needs_background": "light"
     },
     "output_type": "display_data"
    }
   ],
   "source": [
    "# Features correlations heat map\n",
    "corr = dataset_norm.corr()\n",
    "sns.heatmap(corr,cmap=\"YlGnBu\")"
   ]
  },
  {
   "cell_type": "markdown",
   "metadata": {
    "pycharm": {
     "name": "#%% md\n"
    }
   },
   "source": []
  },
  {
   "cell_type": "code",
   "execution_count": 21,
   "metadata": {
    "pycharm": {
     "name": "#%%\n"
    }
   },
   "outputs": [
    {
     "name": "stdout",
     "output_type": "stream",
     "text": [
      "Explained_variance 1 principal component: 0.5317647804810048 (accumulated 0.5318)\n",
      "Explained_variance 2 principal component: 0.16335739298653532 (accumulated 0.6951)\n",
      "Explained_variance 3 principal component: 0.07511546472382856 (accumulated 0.7702)\n",
      "Explained_variance 4 principal component: 0.05492162706805076 (accumulated 0.8252)\n",
      "Explained_variance 5 principal component: 0.053906168670763664 (accumulated 0.8791)\n",
      "Explained_variance 6 principal component: 0.04952232661739574 (accumulated 0.9286)\n",
      "Explained_variance 7 principal component: 0.02248634946399496 (accumulated 0.9511)\n",
      "Explained_variance 8 principal component: 0.01393273190213723 (accumulated 0.965)\n",
      "Explained_variance 9 principal component: 0.012792662672299494 (accumulated 0.9778)\n",
      "Explained_variance 10 principal component: 0.009829012007200738 (accumulated 0.9876)\n",
      "Explained_variance 11 principal component: 0.004024926426955841 (accumulated 0.9917)\n",
      "Explained_variance 12 principal component: 0.002893959610103222 (accumulated 0.9945)\n",
      "Explained_variance 13 principal component: 0.002163271201445784 (accumulated 0.9967)\n",
      "Explained_variance 14 principal component: 0.0017411162226414235 (accumulated 0.9985)\n",
      "Explained_variance 15 principal component: 0.0006928432299862185 (accumulated 0.9991)\n",
      "Explained_variance 16 principal component: 0.00021826337426099308 (accumulated 0.9994)\n",
      "Explained_variance 17 principal component: 0.00023351820917083966 (accumulated 0.9996)\n",
      "Explained_variance 18 principal component: 0.00040358513222440485 (accumulated 1.0)\n"
     ]
    }
   ],
   "source": [
    "# 协方差矩阵、特征值和解释方差\n",
    "\n",
    "covmatrix = dataset_norm.cov()\n",
    "eigenvalues, eigenvectors = np.linalg.eig(covmatrix)\n",
    "\n",
    "acc = 0\n",
    "\n",
    "acc_variance = []\n",
    "\n",
    "for i, eigen in enumerate(eigenvalues):\n",
    "  acc += eigen/np.sum(eigenvalues)\n",
    "  acc_variance.append(acc)\n",
    "  print(f'Explained_variance {i +1} principal component: {eigen/np.sum(eigenvalues)} (accumulated {round(acc, 4)})')"
   ]
  },
  {
   "cell_type": "code",
   "execution_count": 22,
   "metadata": {
    "pycharm": {
     "name": "#%%\n"
    }
   },
   "outputs": [
    {
     "data": {
      "image/png": "[encoded data removed]",
      "text/plain": [
       "<Figure size 1080x576 with 1 Axes>"
      ]
     },
     "metadata": {
      "needs_background": "light"
     },
     "output_type": "display_data"
    }
   ],
   "source": [
    "fig = plt.figure(figsize=(15,8))\n",
    "\n",
    "a = acc_variance\n",
    "\n",
    "b = [i +1 for i in range(len(acc_variance))]\n",
    "plt.title('Explained variance over number of principal components')\n",
    "plt.xlabel('18 principal components')\n",
    "plt.xticks(b)\n",
    "plt.ylabel('explained variance')\n",
    "plt.bar(b, a,color='wheat')\n",
    "plt.show()"
   ]
  },
  {
   "cell_type": "markdown",
   "metadata": {
    "pycharm": {
     "name": "#%% md\n"
    }
   },
   "source": [
    "# Create a Baseline Model\n",
    "\n",
    "I am taking the Last step as prediction of all features to create a baselinemodel. I will use this baseline model to compare the results of the actual model with it. Everything that works better than this baseline model could be an improvement."
   ]
  },
  {
   "cell_type": "code",
   "execution_count": 23,
   "metadata": {
    "pycharm": {
     "name": "#%%\n"
    }
   },
   "outputs": [
    {
     "name": "stderr",
     "output_type": "stream",
     "text": [
      "100%|██████████████████████████████████████████████████████████████████████████| 63359/63359 [00:15<00:00, 4092.99it/s]\n"
     ]
    },
    {
     "name": "stdout",
     "output_type": "stream",
     "text": [
      "length of training set: 57023\n",
      "length of test set: 6336\n",
      "\n",
      "\n"
     ]
    }
   ],
   "source": [
    "loader_train, loader_test = utils_bsc.create_dataloaders(dataset=dataset_norm, device=device)"
   ]
  },
  {
   "cell_type": "markdown",
   "metadata": {
    "pycharm": {
     "name": "#%% md\n"
    }
   },
   "source": [
    "Baseline model based in: Output element is the Input element"
   ]
  },
  {
   "cell_type": "code",
   "execution_count": 24,
   "metadata": {
    "pycharm": {
     "name": "#%%\n"
    }
   },
   "outputs": [],
   "source": [
    "criterion = nn.MSELoss()\n",
    "\n",
    "losses_train = []\n",
    "\n",
    "for i in loader_train:\n",
    "  output = i[0]\n",
    "  target = i[1]\n",
    "  loss = criterion(output, target)\n",
    "  losses_train.append(loss.item())\n",
    "\n",
    "losses_test = []\n",
    "\n",
    "for i in loader_test:\n",
    "  output = i[0]\n",
    "  target = i[1]\n",
    "  loss = criterion(output, target)\n",
    "  losses_test.append(loss.item())\n",
    "\n",
    "# save to npy file to keep track of the results and to print graphs\n",
    "np.save(saved_results + '/baseline_train.npy', losses_train)\n",
    "np.save(saved_results + '/baseline_test.npy', losses_test)\n",
    "\n",
    "if colab is True:\n",
    "    files.download(saved_results + '/baseline_train.npy')\n",
    "    files.download(saved_results + '/baseline_test.npy')"
   ]
  },
  {
   "cell_type": "code",
   "execution_count": 25,
   "metadata": {
    "pycharm": {
     "name": "#%%\n"
    }
   },
   "outputs": [
    {
     "name": "stdout",
     "output_type": "stream",
     "text": [
      "Training set\n",
      "Mean Loss of baselinemodel:  0.4729318470661722\n",
      "Standard deviation Loss of baselinemodel:  0.17852527679205688\n",
      "\n",
      "\n",
      "Test set\n",
      "Mean Loss of baselinemodel:  0.47363791067266103\n",
      "Standard deviation Loss of baselinemodel:  0.1742641143194265\n"
     ]
    }
   ],
   "source": [
    "print(\"Training set\")\n",
    "print(\"Mean Loss of baselinemodel: \", np.mean(losses_train))\n",
    "print(\"Standard deviation Loss of baselinemodel: \", np.std(losses_train))\n",
    "print('\\n')\n",
    "print(\"Test set\")\n",
    "print(\"Mean Loss of baselinemodel: \", np.mean(losses_test))\n",
    "print(\"Standard deviation Loss of baselinemodel: \", np.std(losses_test))"
   ]
  },
  {
   "cell_type": "markdown",
   "metadata": {
    "pycharm": {
     "name": "#%% md\n"
    }
   },
   "source": [
    "Create a second baseline model based on a FFN. It predicts output element based on input element"
   ]
  },
  {
   "cell_type": "code",
   "execution_count": 26,
   "metadata": {
    "pycharm": {
     "name": "#%%\n"
    }
   },
   "outputs": [
    {
     "name": "stdout",
     "output_type": "stream",
     "text": [
      "Model: ANN_relu\n",
      "237898 trainable parameters.\n"
     ]
    }
   ],
   "source": [
    "start_train_FFN = False\n",
    "\n",
    "# Create model FFN instance\n",
    "model_FFN = utils_bsc.ANN_relu(18, 18).to(device)\n",
    "\n",
    "print(f'Model: {type(model_FFN).__name__}')\n",
    "print(f'{utils_bsc.count_parameters(model_FFN)} trainable parameters.')\n",
    "\n",
    "# Define Loss\n",
    "criterion = nn.MSELoss()\n",
    "\n",
    "# Define Optimizer\n",
    "learning_rate=0.01\n",
    "optimizer_whole = torch.optim.SGD(model_FFN.parameters(), lr=learning_rate)\n",
    "\n",
    "if start_train_FFN is True:\n",
    "    n_epochs = 1\n",
    "\n",
    "    params_not_trained_whole = model_FFN.parameters()\n",
    "\n",
    "    start_time = datetime.now()\n",
    "\n",
    "    best_results , train_losses_FFN, test_losses_FFN = utils_bsc.train_FFN(model_FFN, criterion, optimizer_whole, loader_train, loader_test, n_epochs)\n",
    "\n",
    "    model_FFN = best_results[0]\n",
    "    best_train_loss = best_results[1]\n",
    "    best_test_loss = best_results[2]\n",
    "    best_epoch_number = best_results[3]\n",
    "\n",
    "    end_time = datetime.now()\n",
    "    time_diff = (end_time - start_time)\n",
    "    execution_time = time_diff.total_seconds()\n",
    "\n",
    "    print(f'Best test loss at epoch {best_epoch_number}')\n",
    "    print(f'Train Loss: {best_train_loss}')\n",
    "    print(f'Test Loss: {best_test_loss}')\n",
    "    print(f'\\nTraining time for {n_epochs} epochs: {execution_time} seconds')\n",
    "\n",
    "\n",
    "    # save to npy file\n",
    "    np.save(saved_results + '/FFN_train.npy', train_losses_FFN)\n",
    "    np.save(saved_results + '/FFN_test.npy', test_losses_FFN)\n",
    "    torch.save(model_FFN, saved_results + '/model_FFN.pt')\n",
    "\n",
    "    if colab is True:\n",
    "\n",
    "        from google.colab import files\n",
    "\n",
    "        files.download(saved_results + '/FFN_train.npy')\n",
    "        files.download(saved_results + '/FFN_test.npy')\n",
    "        files.download(saved_results + '/model_FFN.pt')"
   ]
  },
  {
   "cell_type": "code",
   "execution_count": 27,
   "metadata": {
    "pycharm": {
     "name": "#%%\n"
    }
   },
   "outputs": [],
   "source": [
    "if start_train_FFN is True:\n",
    "    baseline_loss = [np.mean(losses_train) for i in range(len(train_losses_FFN))]\n",
    "    utils_bsc.print_results_training(train_loss=train_losses_FFN, test_loss=test_losses_FFN, test_loss_baseline=baseline_loss, baseline_label='Baseline', title=\"Full Forward Neural Network train results\")"
   ]
  },
  {
   "cell_type": "markdown",
   "metadata": {
    "pycharm": {
     "name": "#%% md\n"
    }
   },
   "source": [
    "# Transformer Model settings"
   ]
  },
  {
   "cell_type": "markdown",
   "metadata": {
    "pycharm": {
     "name": "#%% md\n"
    }
   },
   "source": [
    "Now, we train the actual transformer over the data set and print and store the results in a dictionary and in a file"
   ]
  },
  {
   "cell_type": "code",
   "execution_count": 28,
   "metadata": {
    "pycharm": {
     "name": "#%%\n"
    }
   },
   "outputs": [],
   "source": [
    "training_results_transformers ={}\n",
    "models={}"
   ]
  },
  {
   "cell_type": "markdown",
   "metadata": {
    "pycharm": {
     "name": "#%% md\n"
    }
   },
   "source": [
    "Train Transformer 'Vanilla' model, with standard hyperparameters"
   ]
  },
  {
   "cell_type": "markdown",
   "metadata": {
    "pycharm": {
     "name": "#%% md\n"
    }
   },
   "source": [
    "models = {name: [number_of_encoder_layers, number_of_decoder_layers, number_of_heads, optimizer, learning_rate, momentum, train_model, sequence_length, batch_size]}"
   ]
  },
  {
   "cell_type": "code",
   "execution_count": 29,
   "metadata": {
    "pycharm": {
     "name": "#%%\n"
    }
   },
   "outputs": [],
   "source": [
    "#models = {'vanilla': [6, 1, 6, 2048, 'SGD', 0.01, None, True, 30, 16]}"
   ]
  },
  {
   "cell_type": "code",
   "execution_count": 30,
   "metadata": {
    "pycharm": {
     "name": "#%%\n"
    }
   },
   "outputs": [],
   "source": [
    "# training_results_transformers = utils_bsc.define_train_transformers(models, device, dataset_norm, training_results_transformers, saved_results, colab)"
   ]
  },
  {
   "cell_type": "code",
   "execution_count": 31,
   "metadata": {
    "pycharm": {
     "name": "#%%\n"
    }
   },
   "outputs": [],
   "source": [
    "# if models['vanilla'][7] is True:\n",
    "\n",
    "#     baseline_loss = [np.mean(i) for i in test_losses_FFN]\n",
    "#     utils_bsc.print_results_training(train_loss=training_results_transformers['vanilla'][4], test_loss=training_results_transformers['vanilla'][5], test_loss_baseline=baseline_loss, baseline_label='FFN Test Loss', title=\"Training results \" + 'vanilla' + \" Transformer (\" + str(models['vanilla'][0]) + \" encoder layers, \" + str(models['vanilla'][1]) + \" decoder layer, \" + str(models['vanilla'][2]) + \" heads. \" + models['vanilla'][4])"
   ]
  },
  {
   "cell_type": "code",
   "execution_count": 32,
   "metadata": {
    "pycharm": {
     "name": "#%%\n"
    }
   },
   "outputs": [],
   "source": [
    "# models['vanilla'][7] = False"
   ]
  },
  {
   "cell_type": "markdown",
   "metadata": {
    "pycharm": {
     "name": "#%% md\n"
    }
   },
   "source": [
    "Train same transformer model but this time with ADAM optimizer"
   ]
  },
  {
   "cell_type": "code",
   "execution_count": 33,
   "metadata": {
    "pycharm": {
     "name": "#%%\n"
    }
   },
   "outputs": [],
   "source": [
    "# models['ADAM'] = [6, 1, 6, 2048, 'ADAM', 0.001, None, True, 30, 16]"
   ]
  },
  {
   "cell_type": "code",
   "execution_count": 34,
   "metadata": {
    "pycharm": {
     "name": "#%%\n"
    }
   },
   "outputs": [],
   "source": [
    "# training_results_transformers = utils_bsc.define_train_transformers(models, device, dataset_norm, training_results_transformers, saved_results, colab)"
   ]
  },
  {
   "cell_type": "code",
   "execution_count": 35,
   "metadata": {
    "pycharm": {
     "name": "#%%\n"
    }
   },
   "outputs": [],
   "source": [
    "# if models['ADAM'][7] is True:\n",
    "\n",
    "#     baseline_loss = [np.mean(i) for i in training_results_transformers['vanilla'][5]]\n",
    "#     utils_bsc.print_results_training(train_loss=training_results_transformers['ADAM'][4], test_loss=training_results_transformers['ADAM'][5], test_loss_baseline=baseline_loss, baseline_label='Vanilla transformer Test Loss', title=\"Training results \" + 'ADAM' + \" Transformer (\" + str(models['ADAM'][0]) + \" encoder layers, \" + str(models['ADAM'][1]) + \" decoder layer, \" + str(models['ADAM'][2]) + \" heads. \" + models['ADAM'][4])"
   ]
  },
  {
   "cell_type": "code",
   "execution_count": 36,
   "metadata": {
    "pycharm": {
     "name": "#%%\n"
    }
   },
   "outputs": [],
   "source": [
    "# models['ADAM'][7] = False"
   ]
  },
  {
   "cell_type": "markdown",
   "metadata": {
    "pycharm": {
     "name": "#%% md\n"
    }
   },
   "source": [
    "Train same transformer but with SGD with momentum as optimiser"
   ]
  },
  {
   "cell_type": "code",
   "execution_count": 37,
   "metadata": {
    "pycharm": {
     "name": "#%%\n"
    }
   },
   "outputs": [],
   "source": [
    "models['Momentum'] = [6, 1, 6, 2048, 'SGD', 0.001, 0.9, True, 30, 16]\n",
    "models['Momentum'][7] = False"
   ]
  },
  {
   "cell_type": "code",
   "execution_count": 38,
   "metadata": {
    "pycharm": {
     "name": "#%%\n"
    }
   },
   "outputs": [],
   "source": [
    "training_results_transformers = utils_bsc.define_train_transformers(models, device, dataset_norm, training_results_transformers, saved_results, colab)"
   ]
  },
  {
   "cell_type": "code",
   "execution_count": 39,
   "metadata": {
    "pycharm": {
     "name": "#%%\n"
    }
   },
   "outputs": [],
   "source": [
    "if models['Momentum'][7] is True:\n",
    "\n",
    "    baseline_loss = [np.mean(i) for i in training_results_transformers['vanilla'][5]]\n",
    "    utils_bsc.print_results_training(train_loss=training_results_transformers['Momentum'][4], test_loss=training_results_transformers['Momentum'][5], test_loss_baseline=baseline_loss, baseline_label='Vanilla transformer Test Loss', title=\"Training results \" + 'Momentum' + \" Transformer (\" + str(models['Momentum'][0]) + \" encoder layers, \" + str(models['Momentum'][1]) + \" decoder layer, \" + str(models['Momentum'][2]) + \" heads. \" + models['Momentum'][4])"
   ]
  },
  {
   "cell_type": "code",
   "execution_count": 40,
   "metadata": {
    "pycharm": {
     "name": "#%%\n"
    }
   },
   "outputs": [],
   "source": [
    "models['Momentum'][7] = False"
   ]
  },
  {
   "cell_type": "markdown",
   "metadata": {
    "pycharm": {
     "name": "#%% md\n"
    }
   },
   "source": [
    "Train the smallest transformer model with SGD with momentum as optimiser"
   ]
  },
  {
   "cell_type": "code",
   "execution_count": 41,
   "metadata": {
    "pycharm": {
     "name": "#%%\n"
    }
   },
   "outputs": [],
   "source": [
    "models['smallest'] = [1, 1, 1, 512, 'SGD', 0.001, 0.9, True, 30, 16]"
   ]
  },
  {
   "cell_type": "code",
   "execution_count": null,
   "metadata": {
    "pycharm": {
     "name": "#%%\n"
    }
   },
   "outputs": [
    {
     "name": "stdout",
     "output_type": "stream",
     "text": [
      "Creating train/test data loaders\n"
     ]
    },
    {
     "name": "stderr",
     "output_type": "stream",
     "text": [
      "100%|██████████████████████████████████████████████████████████████████████████| 63329/63329 [00:52<00:00, 1210.88it/s]\n"
     ]
    },
    {
     "name": "stdout",
     "output_type": "stream",
     "text": [
      "Sequence length: 30\n",
      "Batch size: 16\n",
      "length of training set: 56996\n",
      "length of test set: 6333\n",
      "\n",
      "\n",
      "Model: Transformer - smallest\n",
      "42208 trainable parameters.\n",
      "Epoch: 1 of 200\n",
      "Training...\n"
     ]
    },
    {
     "name": "stderr",
     "output_type": "stream",
     "text": [
      "100%|██████████████████████████████████████████████████████████████████████████████| 3563/3563 [00:54<00:00, 65.50it/s]\n"
     ]
    },
    {
     "name": "stdout",
     "output_type": "stream",
     "text": [
      "\n",
      "Test with training set\n"
     ]
    },
    {
     "name": "stderr",
     "output_type": "stream",
     "text": [
      "100%|█████████████████████████████████████████████████████████████████████████████| 3563/3563 [00:23<00:00, 151.72it/s]\n"
     ]
    },
    {
     "name": "stdout",
     "output_type": "stream",
     "text": [
      "\n",
      "Current Mean loss Train Set:  0.41727301700460484\n",
      "\n",
      "Test with test set\n"
     ]
    },
    {
     "name": "stderr",
     "output_type": "stream",
     "text": [
      "100%|███████████████████████████████████████████████████████████████████████████████| 396/396 [00:02<00:00, 156.90it/s]\n"
     ]
    },
    {
     "name": "stdout",
     "output_type": "stream",
     "text": [
      "\n",
      "Current Mean loss Test Set:  0.42456898172244883\n",
      "\n",
      "\n",
      "Epoch: 2 of 200\n",
      "Training...\n"
     ]
    },
    {
     "name": "stderr",
     "output_type": "stream",
     "text": [
      "100%|██████████████████████████████████████████████████████████████████████████████| 3563/3563 [00:53<00:00, 66.21it/s]\n"
     ]
    },
    {
     "name": "stdout",
     "output_type": "stream",
     "text": [
      "\n",
      "Test with training set\n"
     ]
    },
    {
     "name": "stderr",
     "output_type": "stream",
     "text": [
      "100%|█████████████████████████████████████████████████████████████████████████████| 3563/3563 [00:24<00:00, 144.47it/s]\n"
     ]
    },
    {
     "name": "stdout",
     "output_type": "stream",
     "text": [
      "\n",
      "Current Mean loss Train Set:  0.38428364893609207\n",
      "\n",
      "Test with test set\n"
     ]
    },
    {
     "name": "stderr",
     "output_type": "stream",
     "text": [
      "100%|███████████████████████████████████████████████████████████████████████████████| 396/396 [00:02<00:00, 140.77it/s]\n"
     ]
    },
    {
     "name": "stdout",
     "output_type": "stream",
     "text": [
      "\n",
      "Current Mean loss Test Set:  0.3908538807070617\n",
      "\n",
      "\n",
      "Epoch: 3 of 200\n",
      "Training...\n"
     ]
    },
    {
     "name": "stderr",
     "output_type": "stream",
     "text": [
      "100%|██████████████████████████████████████████████████████████████████████████████| 3563/3563 [00:57<00:00, 61.99it/s]\n"
     ]
    },
    {
     "name": "stdout",
     "output_type": "stream",
     "text": [
      "\n",
      "Test with training set\n"
     ]
    },
    {
     "name": "stderr",
     "output_type": "stream",
     "text": [
      "100%|█████████████████████████████████████████████████████████████████████████████| 3563/3563 [00:29<00:00, 119.50it/s]\n"
     ]
    },
    {
     "name": "stdout",
     "output_type": "stream",
     "text": [
      "\n",
      "Current Mean loss Train Set:  0.3680233134292934\n",
      "\n",
      "Test with test set\n"
     ]
    },
    {
     "name": "stderr",
     "output_type": "stream",
     "text": [
      "100%|███████████████████████████████████████████████████████████████████████████████| 396/396 [00:03<00:00, 117.07it/s]\n"
     ]
    },
    {
     "name": "stdout",
     "output_type": "stream",
     "text": [
      "\n",
      "Current Mean loss Test Set:  0.37387650998102295\n",
      "\n",
      "\n",
      "Epoch: 4 of 200\n",
      "Training...\n"
     ]
    },
    {
     "name": "stderr",
     "output_type": "stream",
     "text": [
      "100%|██████████████████████████████████████████████████████████████████████████████| 3563/3563 [01:07<00:00, 52.95it/s]\n"
     ]
    },
    {
     "name": "stdout",
     "output_type": "stream",
     "text": [
      "\n",
      "Test with training set\n"
     ]
    },
    {
     "name": "stderr",
     "output_type": "stream",
     "text": [
      "100%|█████████████████████████████████████████████████████████████████████████████| 3563/3563 [00:32<00:00, 108.86it/s]\n"
     ]
    },
    {
     "name": "stdout",
     "output_type": "stream",
     "text": [
      "\n",
      "Current Mean loss Train Set:  0.3595370303545646\n",
      "\n",
      "Test with test set\n"
     ]
    },
    {
     "name": "stderr",
     "output_type": "stream",
     "text": [
      "100%|███████████████████████████████████████████████████████████████████████████████| 396/396 [00:03<00:00, 117.08it/s]\n"
     ]
    },
    {
     "name": "stdout",
     "output_type": "stream",
     "text": [
      "\n",
      "Current Mean loss Test Set:  0.3645341773000028\n",
      "\n",
      "\n",
      "Epoch: 5 of 200\n",
      "Training...\n"
     ]
    },
    {
     "name": "stderr",
     "output_type": "stream",
     "text": [
      "100%|██████████████████████████████████████████████████████████████████████████████| 3563/3563 [01:05<00:00, 54.19it/s]\n"
     ]
    },
    {
     "name": "stdout",
     "output_type": "stream",
     "text": [
      "\n",
      "Test with training set\n"
     ]
    },
    {
     "name": "stderr",
     "output_type": "stream",
     "text": [
      "100%|█████████████████████████████████████████████████████████████████████████████| 3563/3563 [00:27<00:00, 130.99it/s]\n"
     ]
    },
    {
     "name": "stdout",
     "output_type": "stream",
     "text": [
      "\n",
      "Current Mean loss Train Set:  0.35521735013819394\n",
      "\n",
      "Test with test set\n"
     ]
    },
    {
     "name": "stderr",
     "output_type": "stream",
     "text": [
      "100%|███████████████████████████████████████████████████████████████████████████████| 396/396 [00:02<00:00, 148.07it/s]\n"
     ]
    },
    {
     "name": "stdout",
     "output_type": "stream",
     "text": [
      "\n",
      "Current Mean loss Test Set:  0.3608252906212301\n",
      "\n",
      "\n",
      "Epoch: 6 of 200\n",
      "Training...\n"
     ]
    },
    {
     "name": "stderr",
     "output_type": "stream",
     "text": [
      "100%|██████████████████████████████████████████████████████████████████████████████| 3563/3563 [00:59<00:00, 60.29it/s]\n"
     ]
    },
    {
     "name": "stdout",
     "output_type": "stream",
     "text": [
      "\n",
      "Test with training set\n"
     ]
    },
    {
     "name": "stderr",
     "output_type": "stream",
     "text": [
      "100%|█████████████████████████████████████████████████████████████████████████████| 3563/3563 [00:24<00:00, 145.63it/s]\n"
     ]
    },
    {
     "name": "stdout",
     "output_type": "stream",
     "text": [
      "\n",
      "Current Mean loss Train Set:  0.35039952977835176\n",
      "\n",
      "Test with test set\n"
     ]
    },
    {
     "name": "stderr",
     "output_type": "stream",
     "text": [
      "100%|███████████████████████████████████████████████████████████████████████████████| 396/396 [00:02<00:00, 151.88it/s]\n"
     ]
    },
    {
     "name": "stdout",
     "output_type": "stream",
     "text": [
      "\n",
      "Current Mean loss Test Set:  0.3550633428750014\n",
      "\n",
      "\n",
      "Epoch: 7 of 200\n",
      "Training...\n"
     ]
    },
    {
     "name": "stderr",
     "output_type": "stream",
     "text": [
      "100%|██████████████████████████████████████████████████████████████████████████████| 3563/3563 [00:55<00:00, 64.69it/s]\n"
     ]
    },
    {
     "name": "stdout",
     "output_type": "stream",
     "text": [
      "\n",
      "Test with training set\n"
     ]
    },
    {
     "name": "stderr",
     "output_type": "stream",
     "text": [
      "100%|█████████████████████████████████████████████████████████████████████████████| 3563/3563 [00:26<00:00, 134.35it/s]\n"
     ]
    },
    {
     "name": "stdout",
     "output_type": "stream",
     "text": [
      "\n",
      "Current Mean loss Train Set:  0.3472319741263137\n",
      "\n",
      "Test with test set\n"
     ]
    },
    {
     "name": "stderr",
     "output_type": "stream",
     "text": [
      "100%|███████████████████████████████████████████████████████████████████████████████| 396/396 [00:03<00:00, 130.58it/s]\n"
     ]
    },
    {
     "name": "stdout",
     "output_type": "stream",
     "text": [
      "\n",
      "Current Mean loss Test Set:  0.3518691433574816\n",
      "\n",
      "\n",
      "Epoch: 8 of 200\n",
      "Training...\n"
     ]
    },
    {
     "name": "stderr",
     "output_type": "stream",
     "text": [
      "100%|██████████████████████████████████████████████████████████████████████████████| 3563/3563 [01:00<00:00, 59.30it/s]\n"
     ]
    },
    {
     "name": "stdout",
     "output_type": "stream",
     "text": [
      "\n",
      "Test with training set\n"
     ]
    },
    {
     "name": "stderr",
     "output_type": "stream",
     "text": [
      "100%|█████████████████████████████████████████████████████████████████████████████| 3563/3563 [00:29<00:00, 121.67it/s]\n"
     ]
    },
    {
     "name": "stdout",
     "output_type": "stream",
     "text": [
      "\n",
      "Current Mean loss Train Set:  0.3443948666249103\n",
      "\n",
      "Test with test set\n"
     ]
    },
    {
     "name": "stderr",
     "output_type": "stream",
     "text": [
      "100%|███████████████████████████████████████████████████████████████████████████████| 396/396 [00:02<00:00, 145.13it/s]\n"
     ]
    },
    {
     "name": "stdout",
     "output_type": "stream",
     "text": [
      "\n",
      "Current Mean loss Test Set:  0.348893245324643\n",
      "\n",
      "\n",
      "Epoch: 9 of 200\n",
      "Training...\n"
     ]
    },
    {
     "name": "stderr",
     "output_type": "stream",
     "text": [
      "100%|██████████████████████████████████████████████████████████████████████████████| 3563/3563 [00:56<00:00, 62.56it/s]\n"
     ]
    },
    {
     "name": "stdout",
     "output_type": "stream",
     "text": [
      "\n",
      "Test with training set\n"
     ]
    },
    {
     "name": "stderr",
     "output_type": "stream",
     "text": [
      "100%|█████████████████████████████████████████████████████████████████████████████| 3563/3563 [00:23<00:00, 154.74it/s]\n"
     ]
    },
    {
     "name": "stdout",
     "output_type": "stream",
     "text": [
      "\n",
      "Current Mean loss Train Set:  0.3423624849456634\n",
      "\n",
      "Test with test set\n"
     ]
    },
    {
     "name": "stderr",
     "output_type": "stream",
     "text": [
      "100%|███████████████████████████████████████████████████████████████████████████████| 396/396 [00:02<00:00, 155.33it/s]\n"
     ]
    },
    {
     "name": "stdout",
     "output_type": "stream",
     "text": [
      "\n",
      "Current Mean loss Test Set:  0.34669999082130615\n",
      "\n",
      "\n",
      "Epoch: 10 of 200\n",
      "Training...\n"
     ]
    },
    {
     "name": "stderr",
     "output_type": "stream",
     "text": [
      "100%|██████████████████████████████████████████████████████████████████████████████| 3563/3563 [00:54<00:00, 64.79it/s]\n"
     ]
    },
    {
     "name": "stdout",
     "output_type": "stream",
     "text": [
      "\n",
      "Test with training set\n"
     ]
    },
    {
     "name": "stderr",
     "output_type": "stream",
     "text": [
      "100%|█████████████████████████████████████████████████████████████████████████████| 3563/3563 [00:25<00:00, 138.63it/s]\n"
     ]
    },
    {
     "name": "stdout",
     "output_type": "stream",
     "text": [
      "\n",
      "Current Mean loss Train Set:  0.3406286493085958\n",
      "\n",
      "Test with test set\n"
     ]
    },
    {
     "name": "stderr",
     "output_type": "stream",
     "text": [
      "100%|███████████████████████████████████████████████████████████████████████████████| 396/396 [00:03<00:00, 128.72it/s]\n"
     ]
    },
    {
     "name": "stdout",
     "output_type": "stream",
     "text": [
      "\n",
      "Current Mean loss Test Set:  0.3450131125070832\n",
      "\n",
      "\n",
      "Epoch: 11 of 200\n",
      "Training...\n"
     ]
    },
    {
     "name": "stderr",
     "output_type": "stream",
     "text": [
      "100%|██████████████████████████████████████████████████████████████████████████████| 3563/3563 [01:05<00:00, 54.13it/s]\n"
     ]
    },
    {
     "name": "stdout",
     "output_type": "stream",
     "text": [
      "\n",
      "Test with training set\n"
     ]
    },
    {
     "name": "stderr",
     "output_type": "stream",
     "text": [
      "100%|█████████████████████████████████████████████████████████████████████████████| 3563/3563 [00:32<00:00, 109.81it/s]\n"
     ]
    },
    {
     "name": "stdout",
     "output_type": "stream",
     "text": [
      "\n",
      "Current Mean loss Train Set:  0.3387381474422398\n",
      "\n",
      "Test with test set\n"
     ]
    },
    {
     "name": "stderr",
     "output_type": "stream",
     "text": [
      "100%|███████████████████████████████████████████████████████████████████████████████| 396/396 [00:03<00:00, 110.55it/s]\n"
     ]
    },
    {
     "name": "stdout",
     "output_type": "stream",
     "text": [
      "\n",
      "Current Mean loss Test Set:  0.343080557920415\n",
      "\n",
      "\n",
      "Epoch: 12 of 200\n",
      "Training...\n"
     ]
    },
    {
     "name": "stderr",
     "output_type": "stream",
     "text": [
      "100%|██████████████████████████████████████████████████████████████████████████████| 3563/3563 [01:10<00:00, 50.65it/s]\n"
     ]
    },
    {
     "name": "stdout",
     "output_type": "stream",
     "text": [
      "\n",
      "Test with training set\n"
     ]
    },
    {
     "name": "stderr",
     "output_type": "stream",
     "text": [
      "100%|█████████████████████████████████████████████████████████████████████████████| 3563/3563 [00:31<00:00, 113.80it/s]\n"
     ]
    },
    {
     "name": "stdout",
     "output_type": "stream",
     "text": [
      "\n",
      "Current Mean loss Train Set:  0.33753593888320915\n",
      "\n",
      "Test with test set\n"
     ]
    },
    {
     "name": "stderr",
     "output_type": "stream",
     "text": [
      "100%|███████████████████████████████████████████████████████████████████████████████| 396/396 [00:03<00:00, 112.61it/s]\n"
     ]
    },
    {
     "name": "stdout",
     "output_type": "stream",
     "text": [
      "\n",
      "Current Mean loss Test Set:  0.34175499863546305\n",
      "\n",
      "\n",
      "Epoch: 13 of 200\n",
      "Training...\n"
     ]
    },
    {
     "name": "stderr",
     "output_type": "stream",
     "text": [
      "100%|██████████████████████████████████████████████████████████████████████████████| 3563/3563 [01:06<00:00, 53.38it/s]\n"
     ]
    },
    {
     "name": "stdout",
     "output_type": "stream",
     "text": [
      "\n",
      "Test with training set\n"
     ]
    },
    {
     "name": "stderr",
     "output_type": "stream",
     "text": [
      "100%|█████████████████████████████████████████████████████████████████████████████| 3563/3563 [00:30<00:00, 116.22it/s]\n"
     ]
    },
    {
     "name": "stdout",
     "output_type": "stream",
     "text": [
      "\n",
      "Current Mean loss Train Set:  0.33611121611032396\n",
      "\n",
      "Test with test set\n"
     ]
    },
    {
     "name": "stderr",
     "output_type": "stream",
     "text": [
      "100%|███████████████████████████████████████████████████████████████████████████████| 396/396 [00:03<00:00, 115.06it/s]\n"
     ]
    },
    {
     "name": "stdout",
     "output_type": "stream",
     "text": [
      "\n",
      "Current Mean loss Test Set:  0.34086028512830685\n",
      "\n",
      "\n",
      "Epoch: 14 of 200\n",
      "Training...\n"
     ]
    },
    {
     "name": "stderr",
     "output_type": "stream",
     "text": [
      "100%|██████████████████████████████████████████████████████████████████████████████| 3563/3563 [01:07<00:00, 53.14it/s]\n"
     ]
    },
    {
     "name": "stdout",
     "output_type": "stream",
     "text": [
      "\n",
      "Test with training set\n"
     ]
    },
    {
     "name": "stderr",
     "output_type": "stream",
     "text": [
      " 21%|████████████████                                                              | 731/3563 [00:06<00:25, 111.18it/s]"
     ]
    }
   ],
   "source": [
    "training_results_transformers = utils_bsc.define_train_transformers(models, device, dataset_norm, training_results_transformers, saved_results, colab)"
   ]
  },
  {
   "cell_type": "code",
   "execution_count": null,
   "metadata": {
    "pycharm": {
     "name": "#%%\n"
    }
   },
   "outputs": [],
   "source": [
    "if models['smallest'][7] is True:\n",
    "\n",
    "    utils_bsc.print_results_training(train_loss=training_results_transformers['smallest'][4], test_loss=training_results_transformers['smallest'][5], test_loss_baseline=baseline_loss, baseline_label='Vanilla transformer Test Loss', title=\"Training results \" + 'smallest' + \" Transformer (\" + str(models['smallest'][0]) + \" encoder layers, \" + str(models['smallest'][1]) + \" decoder layer, \" + str(models['smallest'][2]) + \" heads. \" + models['smallest'][4])"
   ]
  },
  {
   "cell_type": "code",
   "execution_count": null,
   "metadata": {
    "pycharm": {
     "name": "#%%\n"
    }
   },
   "outputs": [],
   "source": [
    "models['smallest'][7] = False"
   ]
  },
  {
   "cell_type": "markdown",
   "metadata": {
    "pycharm": {
     "name": "#%% md\n"
    }
   },
   "source": [
    "Train a bigger transformer model with SGD with momentum as optimiser"
   ]
  },
  {
   "cell_type": "code",
   "execution_count": null,
   "metadata": {
    "pycharm": {
     "name": "#%%\n"
    }
   },
   "outputs": [],
   "source": [
    "#models['bigger'] = [10, 5, 9, 4096, 'SGD', 0.001, 0.9, True, 30, 16]"
   ]
  },
  {
   "cell_type": "code",
   "execution_count": null,
   "metadata": {
    "pycharm": {
     "name": "#%%\n"
    }
   },
   "outputs": [],
   "source": [
    "#training_results_transformers = utils_bsc.define_train_transformers(models, device, dataset_norm, training_results_transformers, saved_results, colab)"
   ]
  },
  {
   "cell_type": "code",
   "execution_count": null,
   "metadata": {
    "pycharm": {
     "name": "#%%\n"
    }
   },
   "outputs": [],
   "source": [
    "# if models['bigger'][7] is True:\n",
    "#     baseline_loss = [np.mean(i) for i in training_results_transformers['vanilla'][5]]\n",
    "#     utils_bsc.print_results_training(train_loss=training_results_transformers['bigger'][4], test_loss=training_results_transformers['bigger'][5], test_loss_baseline=baseline_loss, baseline_label='Vanilla transformer Test Loss', title=\"Training results \" + 'bigger' + \" Transformer (\" + str(models['bigger'][0]) + \" encoder layers, \" + str(models['bigger'][1]) + \" decoder layer, \" + str(models['bigger'][2]) + \" heads. \" + models['bigger'][4])"
   ]
  },
  {
   "cell_type": "code",
   "execution_count": null,
   "metadata": {
    "pycharm": {
     "name": "#%%\n"
    }
   },
   "outputs": [],
   "source": [
    "# models['bigger'][7] = False"
   ]
  },
  {
   "cell_type": "markdown",
   "metadata": {
    "pycharm": {
     "name": "#%% md\n"
    }
   },
   "source": [
    "Try with different sequence lengths"
   ]
  },
  {
   "cell_type": "code",
   "execution_count": null,
   "metadata": {
    "pycharm": {
     "name": "#%%\n"
    }
   },
   "outputs": [],
   "source": [
    "# models['seq_15'] = [6, 1, 6, 2048, 'SGD', 0.001, 0.9, True, 15, 16]\n",
    "# models['seq_60'] = [6, 1, 6, 2048, 'SGD', 0.001, 0.9, True, 60, 16]\n",
    "# models['seq_2'] = [6, 1, 6, 2048, 'SGD', 0.001, 0.9, True, 2, 16]\n",
    "# models['seq_20'] = [6, 1, 6, 2048, 'SGD', 0.001, 0.9, True, 20, 16]\n",
    "# models['seq_10'] = [6, 1, 6, 2048, 'SGD', 0.001, 0.9, True, 10, 16]\n",
    "# models['seq_120'] = [6, 1, 6, 2048, 'SGD', 0.001, 0.9, True, 120, 16]"
   ]
  },
  {
   "cell_type": "code",
   "execution_count": null,
   "metadata": {
    "pycharm": {
     "name": "#%%\n"
    }
   },
   "outputs": [],
   "source": [
    "# print(models)"
   ]
  },
  {
   "cell_type": "code",
   "execution_count": null,
   "metadata": {
    "pycharm": {
     "name": "#%%\n"
    }
   },
   "outputs": [],
   "source": [
    "# training_results_transformers = utils_bsc.define_train_transformers(models, device, dataset_norm, training_results_transformers, saved_results, colab)"
   ]
  },
  {
   "cell_type": "markdown",
   "metadata": {
    "pycharm": {
     "name": "#%% md\n"
    }
   },
   "source": [
    "# Train LSTM"
   ]
  },
  {
   "cell_type": "code",
   "execution_count": null,
   "metadata": {
    "pycharm": {
     "name": "#%%\n"
    }
   },
   "outputs": [],
   "source": [
    "class LSTM(torch.nn.Module):\n",
    "    def __init__(self, input_size: int, hidden_size: int, output_size: int, bias_init: float):\n",
    "        super(LSTM, self).__init__()\n",
    "        self.lstm = torch.nn.LSTM(input_size, hidden_size, batch_first=True)\n",
    "        self.fc = torch.nn.Linear(self.lstm.hidden_size, output_size)\n",
    "\n",
    "        # Deactivate forget gate to be in line with the original definition.\n",
    "        def _reset_forget_gate_hook(_gradients: torch.Tensor) -> torch.Tensor:\n",
    "            _gradients[_gradients.shape[0] // 4:_gradients.shape[0] // 2].fill_(0.0)\n",
    "            return _gradients\n",
    "\n",
    "        for name, parameter in self.lstm.named_parameters():\n",
    "            if 'bias' in name:\n",
    "                parameter.data[(parameter.shape[0] // 4):(parameter.shape[0] // 2)].fill_(bias_init)\n",
    "                parameter.register_hook(_reset_forget_gate_hook)\n",
    "\n",
    "    def forward(self, x: torch.Tensor) -> torch.Tensor:\n",
    "        x = self.lstm(x)[0][:, -1, :]\n",
    "        return self.fc(x)"
   ]
  },
  {
   "cell_type": "code",
   "execution_count": null,
   "metadata": {
    "pycharm": {
     "name": "#%%\n"
    }
   },
   "outputs": [],
   "source": [
    "def training_lstm(model, optimizer, criterion, train_loader, test_loader, n_epochs, train_loss=None,\n",
    "                         test_loss=None):\n",
    "    if train_loss is not None:\n",
    "        epoch_loss_train = train_loss\n",
    "        best_train_loss = min([np.mean(i) for i in train_loss])\n",
    "        best_epoch = np.where(min([np.mean(i) for i in test_loss]))\n",
    "    else:\n",
    "        epoch_loss_train = []\n",
    "        best_train_loss = 9999999999\n",
    "        best_epoch = 0\n",
    "\n",
    "    if test_loss is not None:\n",
    "        epoch_loss_test = test_loss\n",
    "        best_test_loss = min([np.mean(i) for i in test_loss])\n",
    "        best_epoch = np.where(min([np.mean(i) for i in train_loss]))\n",
    "    else:\n",
    "        epoch_loss_test = []\n",
    "        best_test_loss = 99999999999\n",
    "        best_epoch = 0\n",
    "\n",
    "    best_model = model\n",
    "    starting_epoch = len(epoch_loss_test)\n",
    "\n",
    "    for e in range(1, n_epochs + 1):\n",
    "\n",
    "        print(f'Epoch: {e + starting_epoch} of {n_epochs}')\n",
    "        print('Training...')\n",
    "        model.train()\n",
    "\n",
    "        for i in tqdm(train_loader):\n",
    "            input = i[0]\n",
    "            target = i[1]\n",
    "\n",
    "            net_out = model.forward(input)\n",
    "\n",
    "            # Compute loss\n",
    "            loss = criterion(net_out, target)\n",
    "\n",
    "            optimizer.zero_grad()\n",
    "\n",
    "            # Backpropagation\n",
    "            loss.backward()\n",
    "\n",
    "            torch.nn.utils.clip_grad_norm_(model.parameters(), 0.5)\n",
    "\n",
    "            # Optimization\n",
    "            optimizer.step()\n",
    "\n",
    "        print('\\nTest with training set')\n",
    "        losses_train = []\n",
    "        model.eval()\n",
    "        with torch.no_grad():\n",
    "            for i in tqdm(train_loader):\n",
    "                input = i[0]\n",
    "                target = i[2]\n",
    "\n",
    "                net_out = model.forward(input)\n",
    "\n",
    "                # Compute loss\n",
    "                losses_train.append(float(criterion(net_out, target).item()))\n",
    "\n",
    "        print('\\nCurrent Mean loss Train Set: ', np.mean(losses_train))\n",
    "        epoch_loss_train.append(losses_train)\n",
    "\n",
    "        print('\\nTest with test set')\n",
    "        losses_test = []\n",
    "        model.eval()\n",
    "\n",
    "        with torch.no_grad():\n",
    "            for i in tqdm(test_loader):\n",
    "                input = i[0]\n",
    "                target = i[1]\n",
    "\n",
    "                net_out = model.forward(input)\n",
    "\n",
    "                # Compute loss\n",
    "                losses_test.append(float(criterion(net_out, target).item()))\n",
    "\n",
    "        print('\\nCurrent Mean loss Test Set: ', np.mean(losses_test))\n",
    "        epoch_loss_test.append(losses_test)\n",
    "\n",
    "        print('\\n')\n",
    "\n",
    "        if np.mean(losses_test) < best_test_loss:\n",
    "            best_test_loss = np.mean(losses_test)\n",
    "            best_train_loss = np.mean(losses_train)\n",
    "            best_model = model\n",
    "            best_epoch = e\n",
    "\n",
    "    return (best_model, best_train_loss, best_test_loss, best_epoch), epoch_loss_train, epoch_loss_test"
   ]
  },
  {
   "cell_type": "code",
   "execution_count": null,
   "metadata": {
    "pycharm": {
     "name": "#%%\n"
    }
   },
   "outputs": [],
   "source": [
    "def define_train_lstm(models, device, dataset, training_results_transformers, path_save, colab):\n",
    "    for i in models:\n",
    "        if models[i][7] is True:\n",
    "\n",
    "            loader_train, loader_test = utils_bsc.create_sequece_dataloaders(dataset=dataset, seq_length=models[i][8],\n",
    "                                                                   batch_size=models[i][9], device=device)\n",
    "\n",
    "            target_device = torch.device('cuda' if torch.cuda.is_available() else 'cpu')\n",
    "            model = LSTM(input_size=18, hidden_size= 32, output_size=18, bias_init=0.0).to(target_device)\n",
    "\n",
    "            print(f'Model: {type(model).__name__} - {i}')\n",
    "            print(f'{utils_bsc.count_parameters(model)} trainable parameters.')\n",
    "\n",
    "            n_epochs = 200\n",
    "            learning_rate = 0.01\n",
    "\n",
    "            if models[i][4] == 'SGD':\n",
    "\n",
    "                if models[i][6] is not None:\n",
    "                    optimizer = torch.optim.SGD(model.parameters(), lr=models[i][5], momentum=models[i][6])\n",
    "                else:\n",
    "                    optimizer = torch.optim.SGD(model.parameters(), lr=models[i][5])\n",
    "            elif models[i][4] == 'ADAM':\n",
    "                optimizer = torch.optim.Adam(model.parameters(), lr=models[i][5])\n",
    "\n",
    "            criterion = nn.MSELoss()\n",
    "\n",
    "            start_time = datetime.now()\n",
    "\n",
    "            best_results, train_losses, test_losses = training_lstm(\n",
    "                model=model,\n",
    "                optimizer=optimizer,\n",
    "                criterion=criterion,\n",
    "                train_loader=loader_train,\n",
    "                test_loader=loader_test,\n",
    "                n_epochs=n_epochs)\n",
    "\n",
    "            Transformer_trained_Model = best_results[0]\n",
    "            best_train_loss = best_results[1]\n",
    "            best_test_loss = best_results[2]\n",
    "            best_epoch_number = best_results[3]\n",
    "\n",
    "            end_time = datetime.now()\n",
    "            time_diff = (end_time - start_time)\n",
    "            execution_time = time_diff.total_seconds()\n",
    "\n",
    "            print(f'Best test loss at epoch {best_epoch_number}')\n",
    "            print(f'Train Loss: {best_train_loss}')\n",
    "            print(f'Test Loss: {best_test_loss}')\n",
    "            print(f'\\nTraining time for {n_epochs} epochs: {execution_time} seconds')\n",
    "\n",
    "            print(f'Training time: {execution_time} seconds')\n",
    "\n",
    "            training_results_transformers[i] = [Transformer_trained_Model, best_train_loss, best_test_loss,\n",
    "                                                best_epoch_number, train_losses, test_losses, execution_time]\n",
    "\n",
    "            # save to npy file\n",
    "            np.save(path_save + '/Transformer_' + i + '_train.npy', train_losses)\n",
    "            np.save(path_save + '/Transformer_' + i + '_test.npy', test_losses)\n",
    "            torch.save(Transformer_trained_Model, path_save + '/Transformer_' + models[i][8] + '.pt')\n",
    "\n",
    "            if colab is True:\n",
    "                from google.colab import files\n",
    "\n",
    "                files.download(path_save + '/Transformer_' + i + '_train.npy')\n",
    "                files.download(path_save + '/Transformer_' + i + '_test.npy')\n",
    "                files.download(path_save + '/Transformer_' + i + '.pt')\n",
    "\n",
    "    return training_results_transformers"
   ]
  },
  {
   "cell_type": "code",
   "execution_count": null,
   "metadata": {
    "pycharm": {
     "name": "#%%\n"
    }
   },
   "outputs": [],
   "source": [
    "# models = {}\n",
    "# training_results_lstm = {}\n",
    "\n",
    "# models['lstm'] = [1, 1, 1, 512, 'SGD', 0.001, 0.9, True, 30, 16]\n",
    "\n",
    "# training_results_lstm = define_train_lstm(models, device, dataset_norm, training_results_lstm, saved_results, colab)"
   ]
  },
  {
   "cell_type": "code",
   "execution_count": null,
   "metadata": {
    "pycharm": {
     "name": "#%%\n"
    }
   },
   "outputs": [],
   "source": []
  }
 ],
 "metadata": {
  "accelerator": "GPU",
  "colab": {
   "machine_shape": "hm",
   "name": "bsc_arbeit.ipynb",
   "provenance": []
  },
  "kernelspec": {
   "display_name": "tensorflow",
   "language": "python",
   "name": "tensorflow"
  },
  "language_info": {
   "codemirror_mode": {
    "name": "ipython",
    "version": 3
   },
   "file_extension": ".py",
   "mimetype": "text/x-python",
   "name": "python",
   "nbconvert_exporter": "python",
   "pygments_lexer": "ipython3",
   "version": "3.8.13"
  }
 },
 "nbformat": 4,
 "nbformat_minor": 1
}